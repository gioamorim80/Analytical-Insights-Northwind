{
 "cells": [
  {
   "cell_type": "markdown",
   "metadata": {},
   "source": [
    "## Module 3 Final Project \n",
    "\n",
    "## Analytical Insights and Hypothesis Testing from Northwind Database"
   ]
  },
  {
   "cell_type": "markdown",
   "metadata": {},
   "source": [
    "The goal of this project is to conduct a statistical analysis and hypothesis test on the Northwind Traders Database - a dataset created by Microsoft for educational purposes for a fictional company that imports and exports specialty foods globally. \n",
    "\n",
    "Our main task is to answer to our stakeholders the following question:\n",
    "\n",
    "### HYPOTHESIS 1: \"Does discount amount have a statistically significant effect on the quantity of a product in an order? If so, at what level(s) of discount?\"\n",
    "\n",
    "Besides this question posed by our stakeholders, we are also going to investigate three other hypothesis based on our analysis and understanding of this data.\n",
    "\n",
    "Our first step in answering the first question is define our null and alternative hypothesis, as well as our alpha value:"
   ]
  },
  {
   "cell_type": "markdown",
   "metadata": {},
   "source": [
    "**Null Hypothesis** = _there is no difference in product quantity order when there is a discount._\n",
    "\n",
    "**Alternative Hypothesis** = _discount has a statistically significant impact on product quantity order._\n",
    "\n",
    "**Alpha = 0.05**  - For this test we will accept an alpha value of 0.05, which means that we will accept a 5% change of rejecting the null hypothesis when it is in fact true."
   ]
  },
  {
   "cell_type": "markdown",
   "metadata": {},
   "source": [
    "Now we need to load the data we will need to implement our hypothesis analysis."
   ]
  },
  {
   "cell_type": "code",
   "execution_count": 1,
   "metadata": {},
   "outputs": [],
   "source": [
    "# import necessary libraries\n",
    "import pandas as pd\n",
    "import sqlite3\n",
    "\n",
    "# connect to database\n",
    "conn = sqlite3.connect('Northwind_small.sqlite')\n",
    "cur = conn.cursor()"
   ]
  },
  {
   "cell_type": "markdown",
   "metadata": {},
   "source": [
    "We will look at the database schema below in order to query the information we will need.\n",
    "\n",
    "<img src='Northwind_ERD_updated.png'>"
   ]
  },
  {
   "cell_type": "code",
   "execution_count": 2,
   "metadata": {},
   "outputs": [
    {
     "data": {
      "text/html": [
       "<div>\n",
       "<style scoped>\n",
       "    .dataframe tbody tr th:only-of-type {\n",
       "        vertical-align: middle;\n",
       "    }\n",
       "\n",
       "    .dataframe tbody tr th {\n",
       "        vertical-align: top;\n",
       "    }\n",
       "\n",
       "    .dataframe thead th {\n",
       "        text-align: right;\n",
       "    }\n",
       "</style>\n",
       "<table border=\"1\" class=\"dataframe\">\n",
       "  <thead>\n",
       "    <tr style=\"text-align: right;\">\n",
       "      <th></th>\n",
       "      <th>OrderId</th>\n",
       "      <th>ProductId</th>\n",
       "      <th>UnitPrice</th>\n",
       "      <th>Quantity</th>\n",
       "      <th>Discount</th>\n",
       "    </tr>\n",
       "  </thead>\n",
       "  <tbody>\n",
       "    <tr>\n",
       "      <th>0</th>\n",
       "      <td>10285</td>\n",
       "      <td>1</td>\n",
       "      <td>14.4</td>\n",
       "      <td>45</td>\n",
       "      <td>0.20</td>\n",
       "    </tr>\n",
       "    <tr>\n",
       "      <th>1</th>\n",
       "      <td>10294</td>\n",
       "      <td>1</td>\n",
       "      <td>14.4</td>\n",
       "      <td>18</td>\n",
       "      <td>0.00</td>\n",
       "    </tr>\n",
       "    <tr>\n",
       "      <th>2</th>\n",
       "      <td>10317</td>\n",
       "      <td>1</td>\n",
       "      <td>14.4</td>\n",
       "      <td>20</td>\n",
       "      <td>0.00</td>\n",
       "    </tr>\n",
       "    <tr>\n",
       "      <th>3</th>\n",
       "      <td>10348</td>\n",
       "      <td>1</td>\n",
       "      <td>14.4</td>\n",
       "      <td>15</td>\n",
       "      <td>0.15</td>\n",
       "    </tr>\n",
       "    <tr>\n",
       "      <th>4</th>\n",
       "      <td>10354</td>\n",
       "      <td>1</td>\n",
       "      <td>14.4</td>\n",
       "      <td>12</td>\n",
       "      <td>0.00</td>\n",
       "    </tr>\n",
       "    <tr>\n",
       "      <th>5</th>\n",
       "      <td>10370</td>\n",
       "      <td>1</td>\n",
       "      <td>14.4</td>\n",
       "      <td>15</td>\n",
       "      <td>0.15</td>\n",
       "    </tr>\n",
       "    <tr>\n",
       "      <th>6</th>\n",
       "      <td>10406</td>\n",
       "      <td>1</td>\n",
       "      <td>14.4</td>\n",
       "      <td>10</td>\n",
       "      <td>0.00</td>\n",
       "    </tr>\n",
       "    <tr>\n",
       "      <th>7</th>\n",
       "      <td>10413</td>\n",
       "      <td>1</td>\n",
       "      <td>14.4</td>\n",
       "      <td>24</td>\n",
       "      <td>0.00</td>\n",
       "    </tr>\n",
       "    <tr>\n",
       "      <th>8</th>\n",
       "      <td>10477</td>\n",
       "      <td>1</td>\n",
       "      <td>14.4</td>\n",
       "      <td>15</td>\n",
       "      <td>0.00</td>\n",
       "    </tr>\n",
       "    <tr>\n",
       "      <th>9</th>\n",
       "      <td>10522</td>\n",
       "      <td>1</td>\n",
       "      <td>18.0</td>\n",
       "      <td>40</td>\n",
       "      <td>0.20</td>\n",
       "    </tr>\n",
       "  </tbody>\n",
       "</table>\n",
       "</div>"
      ],
      "text/plain": [
       "   OrderId  ProductId  UnitPrice  Quantity  Discount\n",
       "0    10285          1       14.4        45      0.20\n",
       "1    10294          1       14.4        18      0.00\n",
       "2    10317          1       14.4        20      0.00\n",
       "3    10348          1       14.4        15      0.15\n",
       "4    10354          1       14.4        12      0.00\n",
       "5    10370          1       14.4        15      0.15\n",
       "6    10406          1       14.4        10      0.00\n",
       "7    10413          1       14.4        24      0.00\n",
       "8    10477          1       14.4        15      0.00\n",
       "9    10522          1       18.0        40      0.20"
      ]
     },
     "execution_count": 2,
     "metadata": {},
     "output_type": "execute_result"
    }
   ],
   "source": [
    "# query database for the relevant information on orders\n",
    "cur.execute(\"\"\"SELECT OrderId, ProductId, UnitPrice, Quantity, Discount \n",
    "               FROM OrderDetail\n",
    "               ORDER BY ProductId;\"\"\")\n",
    "df = pd.DataFrame(cur.fetchall())\n",
    "df.columns = [x[0] for x in cur.description]\n",
    "df.head(10)"
   ]
  },
  {
   "cell_type": "code",
   "execution_count": 3,
   "metadata": {
    "scrolled": true
   },
   "outputs": [
    {
     "data": {
      "text/html": [
       "<div>\n",
       "<style scoped>\n",
       "    .dataframe tbody tr th:only-of-type {\n",
       "        vertical-align: middle;\n",
       "    }\n",
       "\n",
       "    .dataframe tbody tr th {\n",
       "        vertical-align: top;\n",
       "    }\n",
       "\n",
       "    .dataframe thead th {\n",
       "        text-align: right;\n",
       "    }\n",
       "</style>\n",
       "<table border=\"1\" class=\"dataframe\">\n",
       "  <thead>\n",
       "    <tr style=\"text-align: right;\">\n",
       "      <th></th>\n",
       "      <th>OrderId</th>\n",
       "      <th>ProductId</th>\n",
       "      <th>UnitPrice</th>\n",
       "      <th>Quantity</th>\n",
       "      <th>Discount</th>\n",
       "    </tr>\n",
       "  </thead>\n",
       "  <tbody>\n",
       "    <tr>\n",
       "      <th>count</th>\n",
       "      <td>2155.000000</td>\n",
       "      <td>2155.000000</td>\n",
       "      <td>2155.000000</td>\n",
       "      <td>2155.000000</td>\n",
       "      <td>2155.000000</td>\n",
       "    </tr>\n",
       "    <tr>\n",
       "      <th>mean</th>\n",
       "      <td>10659.375870</td>\n",
       "      <td>40.793039</td>\n",
       "      <td>26.218520</td>\n",
       "      <td>23.812993</td>\n",
       "      <td>0.056167</td>\n",
       "    </tr>\n",
       "    <tr>\n",
       "      <th>std</th>\n",
       "      <td>241.378032</td>\n",
       "      <td>22.159019</td>\n",
       "      <td>29.827418</td>\n",
       "      <td>19.022047</td>\n",
       "      <td>0.083450</td>\n",
       "    </tr>\n",
       "    <tr>\n",
       "      <th>min</th>\n",
       "      <td>10248.000000</td>\n",
       "      <td>1.000000</td>\n",
       "      <td>2.000000</td>\n",
       "      <td>1.000000</td>\n",
       "      <td>0.000000</td>\n",
       "    </tr>\n",
       "    <tr>\n",
       "      <th>25%</th>\n",
       "      <td>10451.000000</td>\n",
       "      <td>22.000000</td>\n",
       "      <td>12.000000</td>\n",
       "      <td>10.000000</td>\n",
       "      <td>0.000000</td>\n",
       "    </tr>\n",
       "    <tr>\n",
       "      <th>50%</th>\n",
       "      <td>10657.000000</td>\n",
       "      <td>41.000000</td>\n",
       "      <td>18.400000</td>\n",
       "      <td>20.000000</td>\n",
       "      <td>0.000000</td>\n",
       "    </tr>\n",
       "    <tr>\n",
       "      <th>75%</th>\n",
       "      <td>10862.500000</td>\n",
       "      <td>60.000000</td>\n",
       "      <td>32.000000</td>\n",
       "      <td>30.000000</td>\n",
       "      <td>0.100000</td>\n",
       "    </tr>\n",
       "    <tr>\n",
       "      <th>max</th>\n",
       "      <td>11077.000000</td>\n",
       "      <td>77.000000</td>\n",
       "      <td>263.500000</td>\n",
       "      <td>130.000000</td>\n",
       "      <td>0.250000</td>\n",
       "    </tr>\n",
       "  </tbody>\n",
       "</table>\n",
       "</div>"
      ],
      "text/plain": [
       "            OrderId    ProductId    UnitPrice     Quantity     Discount\n",
       "count   2155.000000  2155.000000  2155.000000  2155.000000  2155.000000\n",
       "mean   10659.375870    40.793039    26.218520    23.812993     0.056167\n",
       "std      241.378032    22.159019    29.827418    19.022047     0.083450\n",
       "min    10248.000000     1.000000     2.000000     1.000000     0.000000\n",
       "25%    10451.000000    22.000000    12.000000    10.000000     0.000000\n",
       "50%    10657.000000    41.000000    18.400000    20.000000     0.000000\n",
       "75%    10862.500000    60.000000    32.000000    30.000000     0.100000\n",
       "max    11077.000000    77.000000   263.500000   130.000000     0.250000"
      ]
     },
     "execution_count": 3,
     "metadata": {},
     "output_type": "execute_result"
    }
   ],
   "source": [
    "# check the basic statistics for this data\n",
    "df.describe()"
   ]
  },
  {
   "cell_type": "markdown",
   "metadata": {},
   "source": [
    "We can see that we have a total of 2155 product orders and the mean overall quantity on each order regardless of a discount is of 23.81 products, with a median of 20 products and 75% or product orders at 30 products or less. We can also see that the maximum discount level is of 25%. We will investigate further the discount column."
   ]
  },
  {
   "cell_type": "code",
   "execution_count": 4,
   "metadata": {},
   "outputs": [
    {
     "data": {
      "text/plain": [
       "0.00    1317\n",
       "0.05     185\n",
       "0.10     173\n",
       "0.20     161\n",
       "0.15     157\n",
       "0.25     154\n",
       "0.03       3\n",
       "0.02       2\n",
       "0.01       1\n",
       "0.04       1\n",
       "0.06       1\n",
       "Name: Discount, dtype: int64"
      ]
     },
     "execution_count": 4,
     "metadata": {},
     "output_type": "execute_result"
    }
   ],
   "source": [
    "# verify what levels of discount we have\n",
    "df.Discount.value_counts()"
   ]
  },
  {
   "cell_type": "markdown",
   "metadata": {},
   "source": [
    "We note that we have 5 levels of discount that are the most frequent: 5%, 10%, 15%, 20% and 25%. Because the other levels of discounts do not present enough data, we will choose to drop them and work only with the most common discount levels.\n",
    "\n",
    "To start, we can separate our data into two different series - no discount and discount, and analyse if the mere presence of a discount has an impact on quantity of products ordered."
   ]
  },
  {
   "cell_type": "code",
   "execution_count": 5,
   "metadata": {},
   "outputs": [
    {
     "data": {
      "text/plain": [
       "1    18\n",
       "2    20\n",
       "4    12\n",
       "6    10\n",
       "7    24\n",
       "Name: Quantity, dtype: int64"
      ]
     },
     "execution_count": 5,
     "metadata": {},
     "output_type": "execute_result"
    }
   ],
   "source": [
    "# select only the quantity amounts for orders with no discount on a series\n",
    "no_discount = df.loc[df.Discount == 0, 'Quantity']\n",
    "\n",
    "no_discount.head()"
   ]
  },
  {
   "cell_type": "code",
   "execution_count": 6,
   "metadata": {
    "scrolled": true
   },
   "outputs": [
    {
     "data": {
      "text/plain": [
       "0     45\n",
       "3     15\n",
       "5     15\n",
       "9     40\n",
       "10     8\n",
       "Name: Quantity, dtype: int64"
      ]
     },
     "execution_count": 6,
     "metadata": {},
     "output_type": "execute_result"
    }
   ],
   "source": [
    "# select rows only on orders that have discount between 5% and 25%\n",
    "discount_levels = [0.05, 0.10, 0.15, 0.20, 0.25]\n",
    "discount = df.loc[df.Discount.isin(discount_levels), 'Quantity']\n",
    "\n",
    "discount.head()"
   ]
  },
  {
   "cell_type": "code",
   "execution_count": 7,
   "metadata": {
    "scrolled": false
   },
   "outputs": [
    {
     "name": "stdout",
     "output_type": "stream",
     "text": [
      "We have 1317 product orders with no discount, and 830 product orders \n",
      "with discounts between 5% and 25%.The mean product quantity ordered with no discount is 21.7 and \n",
      "the mean product quantity for discounted orders is 27.4.\n"
     ]
    }
   ],
   "source": [
    "# check how many datapoints we have - showing results rounded to one decimal\n",
    "print(f'''We have {len(no_discount)} product orders with no discount, and {len(discount)} product orders \n",
    "with discounts between 5% and 25%.The mean product quantity ordered with no discount is {no_discount.mean():.1f} and \n",
    "the mean product quantity for discounted orders is {discount.mean():.1f}.''')"
   ]
  },
  {
   "cell_type": "markdown",
   "metadata": {},
   "source": [
    "Let us have a quick look at the distributions of these data with a simple histogram plot."
   ]
  },
  {
   "cell_type": "code",
   "execution_count": 8,
   "metadata": {},
   "outputs": [
    {
     "data": {
      "image/png": "[encoded data removed]",
      "text/plain": [
       "<Figure size 432x288 with 1 Axes>"
      ]
     },
     "metadata": {
      "needs_background": "light"
     },
     "output_type": "display_data"
    }
   ],
   "source": [
    "# import vizualization libraries\n",
    "import matplotlib.pyplot as plt\n",
    "import numpy as np\n",
    "import seaborn as sns\n",
    "import warnings\n",
    "warnings.filterwarnings(\"ignore\")\n",
    "%matplotlib inline\n",
    "sns.set_palette('colorblind')\n",
    "\n",
    "#plot both series on a distribution plot\n",
    "sns.distplot(no_discount, label='No Discount')\n",
    "sns.distplot(discount, label='Discounted')\n",
    "plt.axvline(np.mean(no_discount), color='mediumblue', label='No Discount mean')\n",
    "plt.axvline(np.mean(discount), color='chocolate', label='Discounted mean')\n",
    "plt.legend()\n",
    "plt.show()"
   ]
  },
  {
   "cell_type": "markdown",
   "metadata": {},
   "source": [
    "We can see from the graph that both distributions are positively skewed, which may indicate some outliers. Also, there seems to be a difference in the mean quantity for discounted products as compared to no discount - this is a good sign but we must perform our statistical tests in order to be able to conclude if such difference is statistically significant. Since what we are initially trying to prove is if there is a difference between quantity in orders with and without a discount, a two-sample t-test is appropriate, using the mean product quantity as our metric."
   ]
  },
  {
   "cell_type": "code",
   "execution_count": 9,
   "metadata": {},
   "outputs": [],
   "source": [
    "# import libraries\n",
    "from scipy import stats \n",
    "import math"
   ]
  },
  {
   "cell_type": "code",
   "execution_count": 10,
   "metadata": {},
   "outputs": [],
   "source": [
    "# let's write down our alpha value for reference\n",
    "alpha = .05"
   ]
  },
  {
   "cell_type": "code",
   "execution_count": 11,
   "metadata": {},
   "outputs": [
    {
     "data": {
      "text/plain": [
       "(27.4, 21.7, 5.6)"
      ]
     },
     "execution_count": 11,
     "metadata": {},
     "output_type": "execute_result"
    }
   ],
   "source": [
    "# to start let's simply find the difference in mean for discounted and not discounted orders\n",
    "no_discount.mean()\n",
    "discount.mean()\n",
    "mean_difference = discount.mean() - no_discount.mean()\n",
    "round(discount.mean(),1), round(no_discount.mean(),1), round(mean_difference,1)"
   ]
  },
  {
   "cell_type": "markdown",
   "metadata": {},
   "source": [
    "We see that we have a difference of 6.11 product units ordered in the mean of products for orders with discount as compared to no discount, but we must further investigate if this difference is statistically significant. Before deciding which type of t-test we will use we must check if our two groups have equal variance. We will perform Bartlett’s test to check it - this test tests the null hypothesis that two sample groups have equal variance."
   ]
  },
  {
   "cell_type": "code",
   "execution_count": 12,
   "metadata": {},
   "outputs": [
    {
     "data": {
      "text/plain": [
       "BartlettResult(statistic=29.48129316230489, pvalue=5.645902482998379e-08)"
      ]
     },
     "execution_count": 12,
     "metadata": {},
     "output_type": "execute_result"
    }
   ],
   "source": [
    "# perform Bartlett test for variance\n",
    "stats.bartlett(discount, no_discount)"
   ]
  },
  {
   "cell_type": "markdown",
   "metadata": {},
   "source": [
    "Our result shows that our discount and no_discount groups **do not** have equal variances. In this case, we must use the \n",
    "Welch T-Test in our statistical analysis."
   ]
  },
  {
   "cell_type": "code",
   "execution_count": 13,
   "metadata": {},
   "outputs": [],
   "source": [
    "# write a function to run several welch's t-tests\n",
    "\n",
    "def welch_t(sample1, sample2, alpha=0.05, two_tailed=False):\n",
    "    ''' takes two samples and alpha value and runs a simple Welch T-Test, returning corresponding p-value.\n",
    "    Default alpha is 0.05, can pass a different value as parameter\n",
    "    Default is for one-tailed but can take a two_tailed parameter as True, then returns two-tailed p-value result.'''\n",
    "    \n",
    "    # import library\n",
    "    from scipy import stats \n",
    "    \n",
    "    # run t-test with welch correction\n",
    "    t, p = stats.ttest_ind(sample1, sample2, equal_var=False)\n",
    "    \n",
    "    if two_tailed:\n",
    "        print(f'Our p-value is of {p}.')\n",
    "    else:\n",
    "        print(f'Our p-value is of {p/2}.')\n",
    "\n",
    "    # compare p-value to our alpha in order to check if we can reject the null hypothesis, \n",
    "    if two_tailed:\n",
    "        if p < alpha:\n",
    "            print('We can reject the null hypothesis.')\n",
    "        else:\n",
    "            print('We failed to reject the null hypothesis.')\n",
    "    else:\n",
    "        if p/2 < alpha:\n",
    "            print('We can reject the null hypothesis.')\n",
    "        else:\n",
    "            print('We failed to reject the null hypothesis.')"
   ]
  },
  {
   "cell_type": "code",
   "execution_count": 14,
   "metadata": {},
   "outputs": [
    {
     "name": "stdout",
     "output_type": "stream",
     "text": [
      "Our p-value is of 5.0256277704215826e-11.\n",
      "We can reject the null hypothesis.\n"
     ]
    }
   ],
   "source": [
    "# test the samples with and without discount to verify if their means are different\n",
    "welch_t(discount, no_discount)"
   ]
  },
  {
   "cell_type": "markdown",
   "metadata": {},
   "source": [
    "Our test and p-value shows us that we can reject our null hypothesis, so we can say at a 95% confidence level that the mean quantity of products ordered is larger when there is a discount offered. We can now further investigate the different discount levels to answer the second part of the question - **at what level of discount we see an effect on quantity ordered?**\n",
    "\n",
    "In order to do this, we will separate the different discount levels and compare if there is a significant difference among them using a ANOVA test."
   ]
  },
  {
   "cell_type": "code",
   "execution_count": 15,
   "metadata": {},
   "outputs": [],
   "source": [
    "# create separate series for each discount level\n",
    "disc_05 = df.loc[df.Discount == 0.05, 'Quantity']\n",
    "disc_10 = df.loc[df.Discount == 0.10, 'Quantity']\n",
    "disc_15 = df.loc[df.Discount == 0.15, 'Quantity']\n",
    "disc_20 = df.loc[df.Discount == 0.20, 'Quantity']\n",
    "disc_25 = df.loc[df.Discount == 0.25, 'Quantity']"
   ]
  },
  {
   "cell_type": "code",
   "execution_count": 16,
   "metadata": {
    "scrolled": true
   },
   "outputs": [
    {
     "name": "stdout",
     "output_type": "stream",
     "text": [
      "5% discount: 185 \n",
      "10% discount: 173 \n",
      "15% discount: 157 \n",
      "20% discount: 161 \n",
      "25% discount: 154\n"
     ]
    }
   ],
   "source": [
    "# check size of each group\n",
    "print(f'5% discount: {len(disc_05)} \\n10% discount: {len(disc_10)} \\n15% discount: {len(disc_15)} \\n20% discount: {len(disc_20)} \\n25% discount: {len(disc_25)}')"
   ]
  },
  {
   "cell_type": "markdown",
   "metadata": {},
   "source": [
    "We can also quickly have a look at the distribution for each group."
   ]
  },
  {
   "cell_type": "code",
   "execution_count": 17,
   "metadata": {},
   "outputs": [
    {
     "data": {
      "image/png": "[encoded data removed]",
      "text/plain": [
       "<Figure size 720x576 with 1 Axes>"
      ]
     },
     "metadata": {
      "needs_background": "light"
     },
     "output_type": "display_data"
    }
   ],
   "source": [
    "plt.figure(figsize=(10,8))\n",
    "sns.distplot(disc_05, label='5%')\n",
    "sns.distplot(disc_10, label='10%')\n",
    "sns.distplot(disc_15, label='15%')\n",
    "sns.distplot(disc_20, label='20%')\n",
    "sns.distplot(disc_25, label='25%')\n",
    "plt.legend()\n",
    "plt.show()"
   ]
  },
  {
   "cell_type": "markdown",
   "metadata": {},
   "source": [
    "They all have a similar shape, with a higher peak at 5% discount, and are approximatelly normally distributed, although positively skewed. I  want to also have a quick look at their bloxplot to see how they might differ in terms of median and outliers."
   ]
  },
  {
   "cell_type": "code",
   "execution_count": 18,
   "metadata": {},
   "outputs": [
    {
     "data": {
      "image/png": "[encoded data removed]",
      "text/plain": [
       "<Figure size 432x288 with 1 Axes>"
      ]
     },
     "metadata": {
      "needs_background": "light"
     },
     "output_type": "display_data"
    }
   ],
   "source": [
    "# drop unecessary columns\n",
    "df_discount = df.drop(columns=['OrderId','ProductId','UnitPrice'])\n",
    "\n",
    "# select rows with discounts\n",
    "df_discount = df.loc[df.Discount.isin(discount_levels), ['Quantity', 'Discount']]\n",
    "\n",
    "df_discount.head()\n",
    "\n",
    "ax = sns.boxplot(x='Quantity', y='Discount', data=df_discount, orient='h', palette='Set2')"
   ]
  },
  {
   "cell_type": "markdown",
   "metadata": {},
   "source": [
    "The medians seem close and we don't see much separation among the different data. We still see some outliers approximately above 70 items, for most levels of discount, but since some are present for all and they do not show any signs of being due to erros, we will choose to keep them."
   ]
  },
  {
   "cell_type": "code",
   "execution_count": 19,
   "metadata": {},
   "outputs": [
    {
     "data": {
      "text/plain": [
       "<matplotlib.axes._subplots.AxesSubplot at 0x1a1bfc58d0>"
      ]
     },
     "execution_count": 19,
     "metadata": {},
     "output_type": "execute_result"
    },
    {
     "data": {
      "image/png": "[encoded data removed]",
      "text/plain": [
       "<Figure size 432x288 with 1 Axes>"
      ]
     },
     "metadata": {
      "needs_background": "light"
     },
     "output_type": "display_data"
    }
   ],
   "source": [
    "# create dataframe for plotting boxplot\n",
    "df_no_discount = df.loc[df.Discount == 0, ['Quantity', 'Discount']]\n",
    "sns.boxplot(x='Quantity', y='Discount', data=df_no_discount, orient='h', palette='Set2')"
   ]
  },
  {
   "cell_type": "markdown",
   "metadata": {},
   "source": [
    "We can now perform a 1-way ANOVA test now to verify if there is a statistically significant difference amongst the different levels of discount for the mean quantity of products ordered."
   ]
  },
  {
   "cell_type": "code",
   "execution_count": 20,
   "metadata": {},
   "outputs": [
    {
     "data": {
      "text/plain": [
       "F_onewayResult(statistic=0.6741032559876161, pvalue=0.610041445360832)"
      ]
     },
     "execution_count": 20,
     "metadata": {},
     "output_type": "execute_result"
    }
   ],
   "source": [
    "# run a one-way ANOVA test using statsmodels\n",
    "stats.f_oneway(disc_05, disc_10, disc_15, disc_20, disc_25)"
   ]
  },
  {
   "cell_type": "markdown",
   "metadata": {},
   "source": [
    "Our test shows at a 95% confidence level that there is no statistically significant difference amongst the different levels of discounts. To further confirm this and investigate at what discount level we can have an effect, I want to run a welch t-test comparing each discount level to all the others."
   ]
  },
  {
   "cell_type": "code",
   "execution_count": 21,
   "metadata": {},
   "outputs": [
    {
     "name": "stdout",
     "output_type": "stream",
     "text": [
      "Our p-value is of 0.5.\n",
      "We failed to reject the null hypothesis.\n",
      "Our p-value is of 0.11355233112599261.\n",
      "We failed to reject the null hypothesis.\n",
      "Our p-value is of 0.436850968885396.\n",
      "We failed to reject the null hypothesis.\n",
      "Our p-value is of 0.32755671499068295.\n",
      "We failed to reject the null hypothesis.\n",
      "Our p-value is of 0.46029662412688577.\n",
      "We failed to reject the null hypothesis.\n",
      "Our p-value is of 0.11355233112599261.\n",
      "We failed to reject the null hypothesis.\n",
      "Our p-value is of 0.5.\n",
      "We failed to reject the null hypothesis.\n",
      "Our p-value is of 0.0880825399023959.\n",
      "We failed to reject the null hypothesis.\n",
      "Our p-value is of 0.2074729709592535.\n",
      "We failed to reject the null hypothesis.\n",
      "Our p-value is of 0.09487792002313435.\n",
      "We failed to reject the null hypothesis.\n",
      "Our p-value is of 0.436850968885396.\n",
      "We failed to reject the null hypothesis.\n",
      "Our p-value is of 0.0880825399023959.\n",
      "We failed to reject the null hypothesis.\n",
      "Our p-value is of 0.5.\n",
      "We failed to reject the null hypothesis.\n",
      "Our p-value is of 0.2719683612710329.\n",
      "We failed to reject the null hypothesis.\n",
      "Our p-value is of 0.47571144162250883.\n",
      "We failed to reject the null hypothesis.\n",
      "Our p-value is of 0.32755671499068295.\n",
      "We failed to reject the null hypothesis.\n",
      "Our p-value is of 0.2074729709592535.\n",
      "We failed to reject the null hypothesis.\n",
      "Our p-value is of 0.2719683612710329.\n",
      "We failed to reject the null hypothesis.\n",
      "Our p-value is of 0.5.\n",
      "We failed to reject the null hypothesis.\n",
      "Our p-value is of 0.29035465628086127.\n",
      "We failed to reject the null hypothesis.\n",
      "Our p-value is of 0.46029662412688577.\n",
      "We failed to reject the null hypothesis.\n",
      "Our p-value is of 0.09487792002313435.\n",
      "We failed to reject the null hypothesis.\n",
      "Our p-value is of 0.47571144162250883.\n",
      "We failed to reject the null hypothesis.\n",
      "Our p-value is of 0.29035465628086127.\n",
      "We failed to reject the null hypothesis.\n",
      "Our p-value is of 0.5.\n",
      "We failed to reject the null hypothesis.\n"
     ]
    }
   ],
   "source": [
    "# make a list with all the different discount series\n",
    "list_of_discounts = [disc_05, disc_10, disc_15, disc_20, disc_25]\n",
    "\n",
    "# run a t-test comparing each level of discount to the others\n",
    "for i in list_of_discounts:\n",
    "    for e in list_of_discounts:\n",
    "        welch_t(i,e)"
   ]
  },
  {
   "cell_type": "markdown",
   "metadata": {},
   "source": [
    "These results show us that indeed there is no statistically significant difference. So far we learned that discounts do have an effect on quantity ordered, and that there is no statistically significant difference among the different discount levels. We can further investigate how discount affects quantity ordered by getting the effect size of each discount level against a no discount order, since the effect size gives us some measure for the size of the difference between two groups under observation. "
   ]
  },
  {
   "cell_type": "code",
   "execution_count": 22,
   "metadata": {},
   "outputs": [],
   "source": [
    "# Import necessary libraries \n",
    "import numpy as np"
   ]
  },
  {
   "cell_type": "code",
   "execution_count": 23,
   "metadata": {},
   "outputs": [],
   "source": [
    "# define function to calculate the Cohen-d effect size for two samples\n",
    "\n",
    "def cohen_d(group1, group2):\n",
    "    \n",
    "    '''Compute Cohen's d.\n",
    "    Transforms pandas series into numpy arrays for calculations\n",
    "    returns a floating point number for cohen's d.'''\n",
    "    \n",
    "    diff = group1.mean() - group2.mean()\n",
    "\n",
    "    n1, n2 = len(group1), len(group2)\n",
    "    var1 = group1.var()\n",
    "    var2 = group2.var()\n",
    "\n",
    "    # Calculate the pooled threshold \n",
    "    pooled_var = (n1 * var1 + n2 * var2) / (n1 + n2)\n",
    "    \n",
    "    # Calculate Cohen's d statistic\n",
    "    d = diff / np.sqrt(pooled_var)\n",
    "    \n",
    "    return print(f'The Cohen\\'s d value is {d}')"
   ]
  },
  {
   "cell_type": "code",
   "execution_count": 24,
   "metadata": {
    "scrolled": true
   },
   "outputs": [
    {
     "name": "stdout",
     "output_type": "stream",
     "text": [
      "Mean difference in quantity for 5% is of 6.3 products.\n",
      "Mean difference in quantity for 10% is of 3.5 products.\n",
      "Mean difference in quantity for 15% is of 6.7 products.\n",
      "Mean difference in quantity for 20% is of 5.3 products.\n",
      "Mean difference in quantity for 25% is of 6.5 products.\n"
     ]
    }
   ],
   "source": [
    "# check the observed mean difference in product quantity ordered\n",
    "print(f'Mean difference in quantity for 5% is of {disc_05.mean() - no_discount.mean():.1f} products.')\n",
    "print(f'Mean difference in quantity for 10% is of {disc_10.mean() - no_discount.mean():.1f} products.')\n",
    "print(f'Mean difference in quantity for 15% is of {disc_15.mean() - no_discount.mean():.1f} products.')\n",
    "print(f'Mean difference in quantity for 20% is of {disc_20.mean() - no_discount.mean():.1f} products.')\n",
    "print(f'Mean difference in quantity for 25% is of {disc_25.mean() - no_discount.mean():.1f} products.')"
   ]
  },
  {
   "cell_type": "markdown",
   "metadata": {},
   "source": [
    "We can see that there is a positive difference in quantity ordered for all levels, although it looks to be smaller for 10% and 20% levels. Let's run the t-test to verify if these differences observed are statistically significant."
   ]
  },
  {
   "cell_type": "code",
   "execution_count": 25,
   "metadata": {
    "scrolled": true
   },
   "outputs": [
    {
     "name": "stdout",
     "output_type": "stream",
     "text": [
      "Our p-value is of 0.00013616747216423758.\n",
      "We can reject the null hypothesis.\n",
      "Our p-value is of 0.01872798305317041.\n",
      "We can reject the null hypothesis.\n",
      "Our p-value is of 8.610364721813697e-05.\n",
      "We can reject the null hypothesis.\n",
      "Our p-value is of 0.0004055016627021704.\n",
      "We can reject the null hypothesis.\n",
      "Our p-value is of 7.96152546106282e-05.\n",
      "We can reject the null hypothesis.\n"
     ]
    }
   ],
   "source": [
    "# run a welch t-test in a loop to check for statistically significant difference on mean product order quantity\n",
    "for i in list_of_discounts:\n",
    "    welch_t(i, no_discount)"
   ]
  },
  {
   "cell_type": "markdown",
   "metadata": {},
   "source": [
    "Our tests show us that all levels of discount have a statistically significant difference in the mean quantity for product ordered. Let's try to grasp the size of this difference using a cohen-d test."
   ]
  },
  {
   "cell_type": "code",
   "execution_count": 26,
   "metadata": {},
   "outputs": [
    {
     "name": "stdout",
     "output_type": "stream",
     "text": [
      "The Cohen's d value is 0.3468767736284543\n",
      "The Cohen's d value is 0.19594203057834086\n",
      "The Cohen's d value is 0.3724041317472808\n",
      "The Cohen's d value is 0.3007122542913553\n",
      "The Cohen's d value is 0.3665925565267441\n"
     ]
    }
   ],
   "source": [
    "# run a loop to check the Cohen's d value for each level of discount against the no discount sample, from 5% to 25%\n",
    "for i in list_of_discounts:\n",
    "    cohen_d(i, no_discount)"
   ]
  },
  {
   "cell_type": "markdown",
   "metadata": {},
   "source": [
    "We seem to have overall a small effect size between all levels of discount and the no discounted prices. Our numbers confirm that 10% discount level has the least effect size on product quantity ordered. Let's verify the power of our analysis as well."
   ]
  },
  {
   "cell_type": "code",
   "execution_count": 27,
   "metadata": {},
   "outputs": [],
   "source": [
    "# run a power analysis for all tests\n",
    "from statsmodels.stats.power import TTestIndPower, TTestPower\n",
    "power = TTestIndPower()\n",
    "power_05 = power.power(effect_size=0.3948744653331997, nobs1=len(disc_05), alpha=alpha, ratio=len(no_discount)/len(disc_05), df=(len(disc_05) -1 + len(no_discount)-1), alternative='larger')\n",
    "power_10 = power.power(effect_size=0.19821666416305028, nobs1=len(disc_10), alpha=alpha, ratio=len(no_discount)/len(disc_10), df=(len(disc_10) -1 + len(no_discount)-1), alternative='larger')\n",
    "power_15 = power.power(effect_size=0.45301566498890056, nobs1=len(disc_15), alpha=alpha, ratio=len(no_discount)/len(disc_15), df=(len(disc_15) -1 + len(no_discount)-1), alternative='larger')\n",
    "power_20 = power.power(effect_size=0.3750987110329681, nobs1=len(disc_20), alpha=alpha, ratio=len(no_discount)/len(disc_20), df=(len(disc_20) -1 + len(no_discount)-1), alternative='larger')\n",
    "power_25 = power.power(effect_size=0.4109384470929913, nobs1=len(disc_25), alpha=alpha, ratio=len(no_discount)/len(disc_25), df=(len(disc_25) -1 + len(no_discount)-1), alternative='larger')"
   ]
  },
  {
   "cell_type": "code",
   "execution_count": 28,
   "metadata": {},
   "outputs": [
    {
     "data": {
      "text/plain": [
       "(0.9996403433653782,\n",
       " 0.7896313760530176,\n",
       " 0.9999999596290499,\n",
       " 0.9977853833217226,\n",
       " 0.9992590585768578)"
      ]
     },
     "execution_count": 28,
     "metadata": {},
     "output_type": "execute_result"
    }
   ],
   "source": [
    "# display results\n",
    "power_05, power_10, power_15, power_20, power_25"
   ]
  },
  {
   "cell_type": "markdown",
   "metadata": {},
   "source": [
    "Our power for these tests is looking very good. Looking at these results, our business recommendation would, innitially, to stick to discount levels of 5%, 15% and 25% discount. \n",
    "\n",
    "We can, however, further investigate if the extra quantity compared to the lowered revenue per product makes it worth it for the company, specially since we already see a statistically significant effect on quantity ordered at 5% discount. \n",
    "\n",
    "Is applying a larger than 5% discount still worth it in terms of revenue, since the effect of a discount on product quantity is not large? Let's investigate the following hypothesis to give our stakeholders a better understanding of this matter:\n",
    "\n",
    "### HYPOTHESIS 2 : \"Is the mean revenue per product ordered higher at the 5%, 15% and 25% discount levels when compared to product orders with no discounts?\n",
    "\n",
    "To answer this, we begin by stating our hypothesis:\n",
    "\n",
    "**null hypothesis:** _The mean revenue per product ordered at 5%, 15% and 25% discount is equal to the mean revenue per product ordered at no discount level_\n",
    "\n",
    "**alternative hypothesis**: _The mean revenue at either 5%, 15% or 25% is higher than the mean revenue at no discount level_\n",
    "\n",
    "Let's prepare a dataframe with the information that we need for this task."
   ]
  },
  {
   "cell_type": "code",
   "execution_count": 29,
   "metadata": {},
   "outputs": [],
   "source": [
    "# make a list with the discount levels we want to analyse\n",
    "discounts = [0.00, 0.05, 0.15, 0.25]\n",
    "\n",
    "# select desided columns and rows with the discounts that we need only\n",
    "revenue_df = df.loc[df.Discount.isin(discounts), ['Quantity', 'UnitPrice', 'Discount']]\n",
    "\n",
    "# create new column for revenue, multiplying price per quantity\n",
    "revenue_df['Revenue'] = df['Quantity']*df['UnitPrice']"
   ]
  },
  {
   "cell_type": "code",
   "execution_count": 30,
   "metadata": {
    "scrolled": true
   },
   "outputs": [
    {
     "data": {
      "text/html": [
       "<div>\n",
       "<style scoped>\n",
       "    .dataframe tbody tr th:only-of-type {\n",
       "        vertical-align: middle;\n",
       "    }\n",
       "\n",
       "    .dataframe tbody tr th {\n",
       "        vertical-align: top;\n",
       "    }\n",
       "\n",
       "    .dataframe thead th {\n",
       "        text-align: right;\n",
       "    }\n",
       "</style>\n",
       "<table border=\"1\" class=\"dataframe\">\n",
       "  <thead>\n",
       "    <tr style=\"text-align: right;\">\n",
       "      <th></th>\n",
       "      <th>Quantity</th>\n",
       "      <th>UnitPrice</th>\n",
       "      <th>Discount</th>\n",
       "      <th>Revenue</th>\n",
       "    </tr>\n",
       "  </thead>\n",
       "  <tbody>\n",
       "    <tr>\n",
       "      <th>count</th>\n",
       "      <td>1813.000000</td>\n",
       "      <td>1813.000000</td>\n",
       "      <td>1813.000000</td>\n",
       "      <td>1813.000000</td>\n",
       "    </tr>\n",
       "    <tr>\n",
       "      <th>mean</th>\n",
       "      <td>23.489244</td>\n",
       "      <td>26.540248</td>\n",
       "      <td>0.039327</td>\n",
       "      <td>629.317071</td>\n",
       "    </tr>\n",
       "    <tr>\n",
       "      <th>std</th>\n",
       "      <td>18.784050</td>\n",
       "      <td>30.163923</td>\n",
       "      <td>0.077260</td>\n",
       "      <td>1050.407691</td>\n",
       "    </tr>\n",
       "    <tr>\n",
       "      <th>min</th>\n",
       "      <td>1.000000</td>\n",
       "      <td>2.000000</td>\n",
       "      <td>0.000000</td>\n",
       "      <td>4.800000</td>\n",
       "    </tr>\n",
       "    <tr>\n",
       "      <th>25%</th>\n",
       "      <td>10.000000</td>\n",
       "      <td>12.000000</td>\n",
       "      <td>0.000000</td>\n",
       "      <td>153.300000</td>\n",
       "    </tr>\n",
       "    <tr>\n",
       "      <th>50%</th>\n",
       "      <td>20.000000</td>\n",
       "      <td>18.600000</td>\n",
       "      <td>0.000000</td>\n",
       "      <td>360.000000</td>\n",
       "    </tr>\n",
       "    <tr>\n",
       "      <th>75%</th>\n",
       "      <td>30.000000</td>\n",
       "      <td>32.800000</td>\n",
       "      <td>0.050000</td>\n",
       "      <td>720.000000</td>\n",
       "    </tr>\n",
       "    <tr>\n",
       "      <th>max</th>\n",
       "      <td>130.000000</td>\n",
       "      <td>263.500000</td>\n",
       "      <td>0.250000</td>\n",
       "      <td>15810.000000</td>\n",
       "    </tr>\n",
       "  </tbody>\n",
       "</table>\n",
       "</div>"
      ],
      "text/plain": [
       "          Quantity    UnitPrice     Discount       Revenue\n",
       "count  1813.000000  1813.000000  1813.000000   1813.000000\n",
       "mean     23.489244    26.540248     0.039327    629.317071\n",
       "std      18.784050    30.163923     0.077260   1050.407691\n",
       "min       1.000000     2.000000     0.000000      4.800000\n",
       "25%      10.000000    12.000000     0.000000    153.300000\n",
       "50%      20.000000    18.600000     0.000000    360.000000\n",
       "75%      30.000000    32.800000     0.050000    720.000000\n",
       "max     130.000000   263.500000     0.250000  15810.000000"
      ]
     },
     "execution_count": 30,
     "metadata": {},
     "output_type": "execute_result"
    }
   ],
   "source": [
    "# check the overal statistics \n",
    "revenue_df.describe()"
   ]
  },
  {
   "cell_type": "code",
   "execution_count": 31,
   "metadata": {},
   "outputs": [],
   "source": [
    "# separate data with discounts and no discount\n",
    "discount_levels = [0.05, 0.15, 0.25]\n",
    "rev_discount = revenue_df.loc[revenue_df.Discount.isin(discount_levels)]\n",
    "rev_no_discount = revenue_df.loc[revenue_df.Discount == 0]\n",
    "\n",
    "# apply discount to revenue for discounted orders\n",
    "rev_discount['Revenue'] = rev_discount['Revenue'] - (rev_discount['Revenue']*rev_discount['Discount'])"
   ]
  },
  {
   "cell_type": "markdown",
   "metadata": {},
   "source": [
    "I also want to have a look at the data distribution, using a quick distribution plot."
   ]
  },
  {
   "cell_type": "code",
   "execution_count": 32,
   "metadata": {
    "scrolled": false
   },
   "outputs": [
    {
     "data": {
      "image/png": "[encoded data removed]",
      "text/plain": [
       "<Figure size 720x576 with 1 Axes>"
      ]
     },
     "metadata": {
      "needs_background": "light"
     },
     "output_type": "display_data"
    }
   ],
   "source": [
    "# quick distribution plot\n",
    "plt.figure(figsize=(10,8))\n",
    "sns.distplot(rev_no_discount.Revenue, label='No Discount')\n",
    "sns.distplot(rev_discount.Revenue, label='Revenue with Discount')\n",
    "plt.axvline(np.mean(rev_no_discount.Revenue), color='mediumblue', label='No Discount mean')\n",
    "plt.axvline(np.mean(rev_discount.Revenue), color='chocolate', label='Discounted mean')\n",
    "plt.legend()\n",
    "plt.show()"
   ]
  },
  {
   "cell_type": "markdown",
   "metadata": {},
   "source": [
    "Our distributions show positive skewness and high variance. We will likely again we dealing with a Welch correction for our t-tests, and again, the normality of the distribution can be countered by our sample size and the Central Limit Theorem. "
   ]
  },
  {
   "cell_type": "code",
   "execution_count": 33,
   "metadata": {},
   "outputs": [
    {
     "data": {
      "text/plain": [
       "103.50579305973986"
      ]
     },
     "execution_count": 33,
     "metadata": {},
     "output_type": "execute_result"
    }
   ],
   "source": [
    "# check difference between mean revenue for no discount and discount\n",
    "rev_discount.Revenue.mean() - rev_no_discount.Revenue.mean()"
   ]
  },
  {
   "cell_type": "markdown",
   "metadata": {},
   "source": [
    "There is a positive difference between the mean revenue per product order of 103.50 dollars more when there is a discount applied. Again, we must verify if this difference is statistically significant. To do this, we run a welch's t-test."
   ]
  },
  {
   "cell_type": "code",
   "execution_count": 34,
   "metadata": {
    "scrolled": true
   },
   "outputs": [
    {
     "name": "stdout",
     "output_type": "stream",
     "text": [
      "Our p-value is of 0.03168790610785079.\n",
      "We can reject the null hypothesis.\n"
     ]
    }
   ],
   "source": [
    "# use welch_t funcion\n",
    "welch_t(rev_discount.Revenue,rev_no_discount.Revenue)"
   ]
  },
  {
   "cell_type": "markdown",
   "metadata": {},
   "source": [
    "Our test shows that the difference in revenue is statistically significant, so we can reject our null hypothesis that there is no diffference. Let's now further investigate the different levels of discount and their effect on revenue."
   ]
  },
  {
   "cell_type": "code",
   "execution_count": 35,
   "metadata": {},
   "outputs": [],
   "source": [
    "# separate samples for different discount levels with their respective revenues\n",
    "rev_05 = rev_discount.loc[rev_discount.Discount == 0.05, 'Revenue']\n",
    "rev_15 = rev_discount.loc[rev_discount.Discount == 0.15, 'Revenue']\n",
    "rev_25 = rev_discount.loc[rev_discount.Discount == 0.25, 'Revenue']"
   ]
  },
  {
   "cell_type": "code",
   "execution_count": 36,
   "metadata": {
    "scrolled": false
   },
   "outputs": [
    {
     "name": "stdout",
     "output_type": "stream",
     "text": [
      "The difference in mean revenue between 5% discount and no discount is 227.9252164686327\n",
      "The difference in mean revenue between 15% discount and no discount is -12.642371980325834\n",
      "The difference in mean revenue between 25% discount and no discount is 72.45169293405922\n"
     ]
    }
   ],
   "source": [
    "print(f'The difference in mean revenue between 5% discount and no discount is {rev_05.mean() - rev_no_discount.Revenue.mean()}')\n",
    "print(f'The difference in mean revenue between 15% discount and no discount is {rev_15.mean() - rev_no_discount.Revenue.mean()}')\n",
    "print(f'The difference in mean revenue between 25% discount and no discount is {rev_25.mean() - rev_no_discount.Revenue.mean()}')"
   ]
  },
  {
   "cell_type": "markdown",
   "metadata": {},
   "source": [
    "We can see right away that the mean revenue for orders with 15% discount is actually less than for orders with no discount. So far we see a much greater difference in mean revenue at the 5% discount level. We will run a welch t-test to further investigate if these differences that we are observing are statistically significant."
   ]
  },
  {
   "cell_type": "code",
   "execution_count": 37,
   "metadata": {
    "scrolled": false
   },
   "outputs": [
    {
     "name": "stdout",
     "output_type": "stream",
     "text": [
      "Our p-value is of 0.018854935319759333.\n",
      "We can reject the null hypothesis.\n",
      "Our p-value is of 0.40637345060505425.\n",
      "We failed to reject the null hypothesis.\n",
      "Our p-value is of 0.19547470071082323.\n",
      "We failed to reject the null hypothesis.\n"
     ]
    }
   ],
   "source": [
    "# run welch t for each level of discount against no discount\n",
    "welch_t(rev_05, rev_no_discount.Revenue)\n",
    "welch_t(rev_15, rev_no_discount.Revenue)\n",
    "welch_t(rev_25, rev_no_discount.Revenue)"
   ]
  },
  {
   "cell_type": "markdown",
   "metadata": {},
   "source": [
    "Our Welch-t shows that the can only reject the null hypothesis at a 95% confidence level for the 5% discount level when we look at the revenue. We will run a Cohen's d to verify the size of the effect of this discount level on revenue."
   ]
  },
  {
   "cell_type": "code",
   "execution_count": 38,
   "metadata": {},
   "outputs": [
    {
     "name": "stdout",
     "output_type": "stream",
     "text": [
      "The Cohen's d value is 0.22085468552388468\n"
     ]
    }
   ],
   "source": [
    "# use funcion to get cohen d value\n",
    "cohen_d(rev_05, rev_no_discount.Revenue)"
   ]
  },
  {
   "cell_type": "markdown",
   "metadata": {},
   "source": [
    "What our tests show is that, although in terms of quantity ordered a discount of 15% sounds like the most effective, in terms of revenue once the discounts are applied, 15% is not the ideal level of discount. The best effect we see on revenue comes from a 5% discount, even though such effect is small. Let's also verify the power of our analysis."
   ]
  },
  {
   "cell_type": "code",
   "execution_count": 39,
   "metadata": {},
   "outputs": [
    {
     "data": {
      "text/plain": [
       "0.8783448058822063"
      ]
     },
     "execution_count": 39,
     "metadata": {},
     "output_type": "execute_result"
    }
   ],
   "source": [
    "# run a power analysis with our results\n",
    "power.power(effect_size=0.22085468552388468, nobs1=len(rev_05), alpha=alpha, ratio=len(rev_no_discount.Revenue)/len(rev_05), df=(len(rev_05) -1 + len(rev_no_discount.Revenue)-1), alternative='larger')\n"
   ]
  },
  {
   "cell_type": "markdown",
   "metadata": {},
   "source": [
    "Our power analysis shows that we can have 87.8% of correctly rejecting the null hypothesis, so we are satisfied with our analysis results. \n",
    "\n",
    "We would recommend a 5% discount."
   ]
  },
  {
   "cell_type": "markdown",
   "metadata": {},
   "source": [
    "### Hypothesis 3: \"Do some regions provide the company better revenue for orders with discount than others?\"\n",
    "\n",
    "We have learned that a discount does increase the number of products ordered, and also that even though we can see an effect on product quantity at any discount level, a positive, statistically signifcant effect on revenue is only observed at a 5% discount level.\n",
    "\n",
    "I am now curious to understand if the average revenue when there is a discount applied varies depending on the region. To investigage this, I start by stating our hypothesis.\n",
    "\n",
    "**null hypothesis:** _The mean revenue per order with discount is equal for all regions._\n",
    "\n",
    "**alternative hypothesis:** _The mean revenue per order with discount is different for different regions._\n",
    "\n",
    "Let's start by querying our database again for the relevant information we'll need."
   ]
  },
  {
   "cell_type": "code",
   "execution_count": 40,
   "metadata": {
    "scrolled": true
   },
   "outputs": [
    {
     "name": "stdout",
     "output_type": "stream",
     "text": [
      "<class 'pandas.core.frame.DataFrame'>\n",
      "RangeIndex: 380 entries, 0 to 379\n",
      "Data columns (total 3 columns):\n",
      "Revenue       380 non-null float64\n",
      "ShipRegion    380 non-null object\n",
      "Order_ID      380 non-null int64\n",
      "dtypes: float64(1), int64(1), object(1)\n",
      "memory usage: 9.0+ KB\n"
     ]
    }
   ],
   "source": [
    "# new query of database for the relevant information on orders and regions\n",
    "cur.execute(\"\"\"SELECT Quantity*(OrderDetail.UnitPrice - (OrderDetail.UnitPrice*Discount)) as 'Revenue' \n",
    "               ,ShipRegion\n",
    "               ,OrderDetail.OrderID as 'Order_ID'\n",
    "               FROM OrderDetail \n",
    "               LEFT OUTER JOIN `Order`\n",
    "               ON OrderDetail.OrderID = `Order`.Id\n",
    "               WHERE Discount!=0\n",
    "               GROUP BY OrderDetail.OrderID\n",
    "               ORDER BY SUM(Quantity*(OrderDetail.UnitPrice - (OrderDetail.UnitPrice*Discount))) DESC;\"\"\")\n",
    "df = pd.DataFrame(cur.fetchall())\n",
    "df.columns = [x[0] for x in cur.description]\n",
    "\n",
    "# have an overall look at our resulting dataframe\n",
    "df.info()"
   ]
  },
  {
   "cell_type": "code",
   "execution_count": 41,
   "metadata": {
    "scrolled": true
   },
   "outputs": [
    {
     "data": {
      "text/html": [
       "<div>\n",
       "<style scoped>\n",
       "    .dataframe tbody tr th:only-of-type {\n",
       "        vertical-align: middle;\n",
       "    }\n",
       "\n",
       "    .dataframe tbody tr th {\n",
       "        vertical-align: top;\n",
       "    }\n",
       "\n",
       "    .dataframe thead th {\n",
       "        text-align: right;\n",
       "    }\n",
       "</style>\n",
       "<table border=\"1\" class=\"dataframe\">\n",
       "  <thead>\n",
       "    <tr style=\"text-align: right;\">\n",
       "      <th></th>\n",
       "      <th>Revenue</th>\n",
       "      <th>ShipRegion</th>\n",
       "      <th>Order_ID</th>\n",
       "    </tr>\n",
       "  </thead>\n",
       "  <tbody>\n",
       "    <tr>\n",
       "      <th>0</th>\n",
       "      <td>1368.0</td>\n",
       "      <td>Western Europe</td>\n",
       "      <td>10865</td>\n",
       "    </tr>\n",
       "    <tr>\n",
       "      <th>1</th>\n",
       "      <td>4125.0</td>\n",
       "      <td>North America</td>\n",
       "      <td>11030</td>\n",
       "    </tr>\n",
       "    <tr>\n",
       "      <th>2</th>\n",
       "      <td>875.7</td>\n",
       "      <td>South America</td>\n",
       "      <td>10372</td>\n",
       "    </tr>\n",
       "    <tr>\n",
       "      <th>3</th>\n",
       "      <td>240.0</td>\n",
       "      <td>North America</td>\n",
       "      <td>10424</td>\n",
       "    </tr>\n",
       "    <tr>\n",
       "      <th>4</th>\n",
       "      <td>8432.0</td>\n",
       "      <td>Western Europe</td>\n",
       "      <td>10353</td>\n",
       "    </tr>\n",
       "  </tbody>\n",
       "</table>\n",
       "</div>"
      ],
      "text/plain": [
       "   Revenue      ShipRegion  Order_ID\n",
       "0   1368.0  Western Europe     10865\n",
       "1   4125.0   North America     11030\n",
       "2    875.7   South America     10372\n",
       "3    240.0   North America     10424\n",
       "4   8432.0  Western Europe     10353"
      ]
     },
     "execution_count": 41,
     "metadata": {},
     "output_type": "execute_result"
    }
   ],
   "source": [
    "# inspect our dataframe\n",
    "df.head()"
   ]
  },
  {
   "cell_type": "code",
   "execution_count": 42,
   "metadata": {},
   "outputs": [
    {
     "data": {
      "text/plain": [
       "380"
      ]
     },
     "execution_count": 42,
     "metadata": {},
     "output_type": "execute_result"
    }
   ],
   "source": [
    "# verifying each data entry is for an unique order\n",
    "df.Order_ID.nunique()"
   ]
  },
  {
   "cell_type": "code",
   "execution_count": 43,
   "metadata": {},
   "outputs": [
    {
     "data": {
      "text/plain": [
       "Western Europe     142\n",
       "North America       69\n",
       "South America       67\n",
       "Northern Europe     32\n",
       "Southern Europe     30\n",
       "British Isles       29\n",
       "Scandinavia          8\n",
       "Central America      3\n",
       "Name: ShipRegion, dtype: int64"
      ]
     },
     "execution_count": 43,
     "metadata": {},
     "output_type": "execute_result"
    }
   ],
   "source": [
    "# check how many orders for each region\n",
    "df.ShipRegion.value_counts()"
   ]
  },
  {
   "cell_type": "markdown",
   "metadata": {},
   "source": [
    "Neat. We see that some regions have less orders, so we will want to combine them in order to make our sample sizes more similar."
   ]
  },
  {
   "cell_type": "code",
   "execution_count": 44,
   "metadata": {
    "scrolled": true
   },
   "outputs": [
    {
     "data": {
      "text/plain": [
       "Western Europe                  142\n",
       "Northern and Southern Europe     99\n",
       "South and Central America        70\n",
       "North America                    69\n",
       "Name: ShipRegion, dtype: int64"
      ]
     },
     "execution_count": 44,
     "metadata": {},
     "output_type": "execute_result"
    }
   ],
   "source": [
    "# replace region values to combine them\n",
    "df.replace('Scandinavia', 'Northern and Southern Europe', inplace=True)\n",
    "df.replace('British Isles', 'Northern and Southern Europe', inplace=True)\n",
    "df.replace('Northern Europe', 'Northern and Southern Europe', inplace=True)\n",
    "df.replace('Southern Europe', 'Northern and Southern Europe', inplace=True)\n",
    "df.replace('South America', 'South and Central America', inplace=True)\n",
    "df.replace('Central America', 'South and Central America', inplace=True)\n",
    "\n",
    "# check new regions and orders totals\n",
    "df.ShipRegion.value_counts()"
   ]
  },
  {
   "cell_type": "markdown",
   "metadata": {},
   "source": [
    "Good. Now I want to verify the average order revenue, and compare them. "
   ]
  },
  {
   "cell_type": "code",
   "execution_count": 45,
   "metadata": {},
   "outputs": [
    {
     "name": "stdout",
     "output_type": "stream",
     "text": [
      "Average revenue per order for Western Europe is 661.3652746478874.\n",
      "Average revenue per order for Northern and Southern Europe is 538.7179040404042.\n",
      "Average revenue per order for South and Central America  is 357.39696428571426.\n",
      "Average revenue per order for North America is 653.3761231884057.\n"
     ]
    }
   ],
   "source": [
    "# calculate the mean revenue per order for each region\n",
    "w_eu_mean = df.loc[df.ShipRegion == 'Western Europe'].Revenue.mean()\n",
    "ns_eu_mean = df.loc[df.ShipRegion == 'Northern and Southern Europe'].Revenue.mean()\n",
    "sc_amer_mean = df.loc[df.ShipRegion == 'South and Central America'].Revenue.mean()\n",
    "n_amer_mean = df.loc[df.ShipRegion == 'North America'].Revenue.mean()\n",
    "\n",
    "# print results\n",
    "print(f'Average revenue per order for Western Europe is {w_eu_mean}.')\n",
    "print(f'Average revenue per order for Northern and Southern Europe is {ns_eu_mean}.')\n",
    "print(f'Average revenue per order for South and Central America  is {sc_amer_mean}.')\n",
    "print(f'Average revenue per order for North America is {n_amer_mean}.')"
   ]
  },
  {
   "cell_type": "markdown",
   "metadata": {},
   "source": [
    "We can also see that the mean revenue per order for certain regions is higher than others - Western Europe and North America look like the regions generating more revenue per order, although we still need to verify if there is a statistically significant difference. Let's run a ANOVA test to see if what we can find. Let's create our relevant data for the test."
   ]
  },
  {
   "cell_type": "code",
   "execution_count": 46,
   "metadata": {},
   "outputs": [],
   "source": [
    "# separate revenue data for each region\n",
    "western_europe = df.loc[df.ShipRegion == 'Western Europe'].Revenue\n",
    "northern_southern_europe = df.loc[df.ShipRegion == 'Northern and Southern Europe'].Revenue\n",
    "south_central_america = df.loc[df.ShipRegion == 'South and Central America'].Revenue\n",
    "north_america = df.loc[df.ShipRegion == 'North America'].Revenue"
   ]
  },
  {
   "cell_type": "code",
   "execution_count": 47,
   "metadata": {},
   "outputs": [
    {
     "data": {
      "text/plain": [
       "F_onewayResult(statistic=2.529269356107928, pvalue=0.05699020162543413)"
      ]
     },
     "execution_count": 47,
     "metadata": {},
     "output_type": "execute_result"
    }
   ],
   "source": [
    "# run a one-way ANOVA test using statsmodels\n",
    "stats.f_oneway(western_europe, northern_southern_europe, south_central_america, north_america)"
   ]
  },
  {
   "cell_type": "markdown",
   "metadata": {},
   "source": [
    "Our p-value shows that there is no statistically significant difference amongst the different regions for mean order revenue when there is a discount applied. So we have failed to reject our hypothesis that a discount will have a different effect on revenue for different regions."
   ]
  },
  {
   "cell_type": "markdown",
   "metadata": {},
   "source": [
    "Now I am curious to learn if employees who are using more discounts on orders are actually generating more revenue. We can verify this by looking at our top employees in terms of number of orders with discounts, and comparing them to the mean revenue per order by the other employees. \n",
    "\n",
    "### HYPOTHESIS 4: \"Are employees who rely more heavily on discounts as sales tool actually bringing in more revenue?\"\n",
    "\n",
    "**null hypothesis:** _The mean revenue per order by the employees who apply more discounts is the same as the mean revenue per order for other employees._\n",
    "\n",
    "**alternative hypothesis:** _The mean revenue per order by the employees who apply more discounts is higher than the mean revenue per order for other employees._\n",
    "\n",
    "Let's start by querying again our database for the relevant information."
   ]
  },
  {
   "cell_type": "code",
   "execution_count": 48,
   "metadata": {
    "scrolled": true
   },
   "outputs": [
    {
     "name": "stdout",
     "output_type": "stream",
     "text": [
      "<class 'pandas.core.frame.DataFrame'>\n",
      "RangeIndex: 2155 entries, 0 to 2154\n",
      "Data columns (total 5 columns):\n",
      "EmployeeId    2155 non-null int64\n",
      "Name          2155 non-null object\n",
      "Region        2155 non-null object\n",
      "Revenue       2155 non-null float64\n",
      "Discount      2155 non-null float64\n",
      "dtypes: float64(2), int64(1), object(2)\n",
      "memory usage: 84.3+ KB\n"
     ]
    }
   ],
   "source": [
    "# new query of database for the relevant information\n",
    "cur.execute(\"\"\"SELECT EmployeeId\n",
    "               ,FirstName || ' ' || LastName\n",
    "               AS 'Name'\n",
    "               ,Region\n",
    "               ,Quantity*(OrderDetail.UnitPrice - (OrderDetail.UnitPrice*Discount))\n",
    "               AS 'Revenue'\n",
    "               ,Discount\n",
    "               FROM [Order]\n",
    "               LEFT OUTER JOIN Employee\n",
    "               ON [Order].EmployeeId=Employee.Id\n",
    "               LEFT OUTER JOIN OrderDetail\n",
    "               ON [Order].Id=OrderDetail.OrderId;\"\"\")\n",
    "df = pd.DataFrame(cur.fetchall())\n",
    "df.columns = [x[0] for x in cur.description]\n",
    "\n",
    "# have an overall look at our resulting dataframe\n",
    "df.info()"
   ]
  },
  {
   "cell_type": "code",
   "execution_count": 49,
   "metadata": {},
   "outputs": [
    {
     "data": {
      "text/html": [
       "<div>\n",
       "<style scoped>\n",
       "    .dataframe tbody tr th:only-of-type {\n",
       "        vertical-align: middle;\n",
       "    }\n",
       "\n",
       "    .dataframe tbody tr th {\n",
       "        vertical-align: top;\n",
       "    }\n",
       "\n",
       "    .dataframe thead th {\n",
       "        text-align: right;\n",
       "    }\n",
       "</style>\n",
       "<table border=\"1\" class=\"dataframe\">\n",
       "  <thead>\n",
       "    <tr style=\"text-align: right;\">\n",
       "      <th></th>\n",
       "      <th>EmployeeId</th>\n",
       "      <th>Name</th>\n",
       "      <th>Region</th>\n",
       "      <th>Revenue</th>\n",
       "      <th>Discount</th>\n",
       "    </tr>\n",
       "  </thead>\n",
       "  <tbody>\n",
       "    <tr>\n",
       "      <th>0</th>\n",
       "      <td>5</td>\n",
       "      <td>Steven Buchanan</td>\n",
       "      <td>British Isles</td>\n",
       "      <td>98.0</td>\n",
       "      <td>0.0</td>\n",
       "    </tr>\n",
       "    <tr>\n",
       "      <th>1</th>\n",
       "      <td>5</td>\n",
       "      <td>Steven Buchanan</td>\n",
       "      <td>British Isles</td>\n",
       "      <td>168.0</td>\n",
       "      <td>0.0</td>\n",
       "    </tr>\n",
       "    <tr>\n",
       "      <th>2</th>\n",
       "      <td>5</td>\n",
       "      <td>Steven Buchanan</td>\n",
       "      <td>British Isles</td>\n",
       "      <td>174.0</td>\n",
       "      <td>0.0</td>\n",
       "    </tr>\n",
       "    <tr>\n",
       "      <th>3</th>\n",
       "      <td>6</td>\n",
       "      <td>Michael Suyama</td>\n",
       "      <td>British Isles</td>\n",
       "      <td>167.4</td>\n",
       "      <td>0.0</td>\n",
       "    </tr>\n",
       "    <tr>\n",
       "      <th>4</th>\n",
       "      <td>6</td>\n",
       "      <td>Michael Suyama</td>\n",
       "      <td>British Isles</td>\n",
       "      <td>1696.0</td>\n",
       "      <td>0.0</td>\n",
       "    </tr>\n",
       "  </tbody>\n",
       "</table>\n",
       "</div>"
      ],
      "text/plain": [
       "   EmployeeId             Name         Region  Revenue  Discount\n",
       "0           5  Steven Buchanan  British Isles     98.0       0.0\n",
       "1           5  Steven Buchanan  British Isles    168.0       0.0\n",
       "2           5  Steven Buchanan  British Isles    174.0       0.0\n",
       "3           6   Michael Suyama  British Isles    167.4       0.0\n",
       "4           6   Michael Suyama  British Isles   1696.0       0.0"
      ]
     },
     "execution_count": 49,
     "metadata": {},
     "output_type": "execute_result"
    }
   ],
   "source": [
    "# have a quick look at the dataframe\n",
    "df.head()"
   ]
  },
  {
   "cell_type": "code",
   "execution_count": 50,
   "metadata": {
    "scrolled": true
   },
   "outputs": [
    {
     "data": {
      "text/plain": [
       "North America    1587\n",
       "British Isles     568\n",
       "Name: Region, dtype: int64"
      ]
     },
     "execution_count": 50,
     "metadata": {},
     "output_type": "execute_result"
    }
   ],
   "source": [
    "# check what region we have and which places more orders overall\n",
    "df.Region.value_counts()"
   ]
  },
  {
   "cell_type": "markdown",
   "metadata": {},
   "source": [
    "We see that most orders come from the North America region. Let's see how many employees we have placing orders, and how many each."
   ]
  },
  {
   "cell_type": "code",
   "execution_count": 51,
   "metadata": {},
   "outputs": [
    {
     "data": {
      "text/plain": [
       "Margaret Peacock    420\n",
       "Nancy Davolio       345\n",
       "Janet Leverling     321\n",
       "Laura Callahan      260\n",
       "Andrew Fuller       241\n",
       "Robert King         176\n",
       "Michael Suyama      168\n",
       "Steven Buchanan     117\n",
       "Anne Dodsworth      107\n",
       "Name: Name, dtype: int64"
      ]
     },
     "execution_count": 51,
     "metadata": {},
     "output_type": "execute_result"
    }
   ],
   "source": [
    "# check number of unique employees and number of each one's orders and save as a series \n",
    "total_orders = df.Name.value_counts()\n",
    "total_orders"
   ]
  },
  {
   "cell_type": "markdown",
   "metadata": {},
   "source": [
    "We have 9 employees placing orders. Margaret Peacok has placed the most overall orders, with 420 total, and Anne Dodsworth has the lowest total orders at 107. I'm also curious to see which office each employee belongs to, and their total sales."
   ]
  },
  {
   "cell_type": "code",
   "execution_count": 52,
   "metadata": {
    "scrolled": true
   },
   "outputs": [
    {
     "data": {
      "text/html": [
       "<div>\n",
       "<style scoped>\n",
       "    .dataframe tbody tr th:only-of-type {\n",
       "        vertical-align: middle;\n",
       "    }\n",
       "\n",
       "    .dataframe tbody tr th {\n",
       "        vertical-align: top;\n",
       "    }\n",
       "\n",
       "    .dataframe thead th {\n",
       "        text-align: right;\n",
       "    }\n",
       "</style>\n",
       "<table border=\"1\" class=\"dataframe\">\n",
       "  <thead>\n",
       "    <tr style=\"text-align: right;\">\n",
       "      <th></th>\n",
       "      <th>Region</th>\n",
       "      <th>Name</th>\n",
       "      <th>Revenue</th>\n",
       "      <th>Total_Orders</th>\n",
       "      <th>Revenue_per_Order</th>\n",
       "    </tr>\n",
       "  </thead>\n",
       "  <tbody>\n",
       "    <tr>\n",
       "      <th>7</th>\n",
       "      <td>North America</td>\n",
       "      <td>Margaret Peacock</td>\n",
       "      <td>232890.8460</td>\n",
       "      <td>420</td>\n",
       "      <td>554.502014</td>\n",
       "    </tr>\n",
       "    <tr>\n",
       "      <th>5</th>\n",
       "      <td>North America</td>\n",
       "      <td>Janet Leverling</td>\n",
       "      <td>202812.8430</td>\n",
       "      <td>321</td>\n",
       "      <td>631.815710</td>\n",
       "    </tr>\n",
       "    <tr>\n",
       "      <th>8</th>\n",
       "      <td>North America</td>\n",
       "      <td>Nancy Davolio</td>\n",
       "      <td>192107.6045</td>\n",
       "      <td>345</td>\n",
       "      <td>556.833636</td>\n",
       "    </tr>\n",
       "    <tr>\n",
       "      <th>4</th>\n",
       "      <td>North America</td>\n",
       "      <td>Andrew Fuller</td>\n",
       "      <td>166537.7550</td>\n",
       "      <td>241</td>\n",
       "      <td>691.028029</td>\n",
       "    </tr>\n",
       "    <tr>\n",
       "      <th>6</th>\n",
       "      <td>North America</td>\n",
       "      <td>Laura Callahan</td>\n",
       "      <td>126862.2775</td>\n",
       "      <td>260</td>\n",
       "      <td>487.931837</td>\n",
       "    </tr>\n",
       "    <tr>\n",
       "      <th>2</th>\n",
       "      <td>British Isles</td>\n",
       "      <td>Robert King</td>\n",
       "      <td>124568.2350</td>\n",
       "      <td>176</td>\n",
       "      <td>707.774063</td>\n",
       "    </tr>\n",
       "    <tr>\n",
       "      <th>0</th>\n",
       "      <td>British Isles</td>\n",
       "      <td>Anne Dodsworth</td>\n",
       "      <td>77308.0665</td>\n",
       "      <td>107</td>\n",
       "      <td>722.505294</td>\n",
       "    </tr>\n",
       "    <tr>\n",
       "      <th>1</th>\n",
       "      <td>British Isles</td>\n",
       "      <td>Michael Suyama</td>\n",
       "      <td>73913.1295</td>\n",
       "      <td>168</td>\n",
       "      <td>439.959104</td>\n",
       "    </tr>\n",
       "    <tr>\n",
       "      <th>3</th>\n",
       "      <td>British Isles</td>\n",
       "      <td>Steven Buchanan</td>\n",
       "      <td>68792.2825</td>\n",
       "      <td>117</td>\n",
       "      <td>587.968226</td>\n",
       "    </tr>\n",
       "  </tbody>\n",
       "</table>\n",
       "</div>"
      ],
      "text/plain": [
       "          Region              Name      Revenue  Total_Orders  \\\n",
       "7  North America  Margaret Peacock  232890.8460           420   \n",
       "5  North America   Janet Leverling  202812.8430           321   \n",
       "8  North America     Nancy Davolio  192107.6045           345   \n",
       "4  North America     Andrew Fuller  166537.7550           241   \n",
       "6  North America    Laura Callahan  126862.2775           260   \n",
       "2  British Isles       Robert King  124568.2350           176   \n",
       "0  British Isles    Anne Dodsworth   77308.0665           107   \n",
       "1  British Isles    Michael Suyama   73913.1295           168   \n",
       "3  British Isles   Steven Buchanan   68792.2825           117   \n",
       "\n",
       "   Revenue_per_Order  \n",
       "7         554.502014  \n",
       "5         631.815710  \n",
       "8         556.833636  \n",
       "4         691.028029  \n",
       "6         487.931837  \n",
       "2         707.774063  \n",
       "0         722.505294  \n",
       "1         439.959104  \n",
       "3         587.968226  "
      ]
     },
     "execution_count": 52,
     "metadata": {},
     "output_type": "execute_result"
    }
   ],
   "source": [
    "# group dataframe by region and employee name, and sum revenue\n",
    "df2=df.groupby(['Region', 'Name'], as_index=False)['Revenue'].sum()\n",
    "# sort values in descending order of revenue\n",
    "df3 = df2.sort_values(['Revenue'], ascending=False)\n",
    "# add the total orders from data above to dataframe\n",
    "df3['Total_Orders'] = [420,321,345,241,260,176,107,168,117]\n",
    "df3['Revenue_per_Order'] = df3['Revenue']/df3['Total_Orders']\n",
    "df3"
   ]
  },
  {
   "cell_type": "markdown",
   "metadata": {},
   "source": [
    "This gives us a good overview of each region's employees, their orders and revenue generated. Let's now check how many orders each employee has placed with discount, and get the rate of discounted orders for each employee so that we learn who relies more heavily on discounts."
   ]
  },
  {
   "cell_type": "code",
   "execution_count": 53,
   "metadata": {},
   "outputs": [
    {
     "name": "stdout",
     "output_type": "stream",
     "text": [
      "Margaret Peacock discount rate is 40.48.\n",
      "Nancy Davolio discount rate is 39.13.\n",
      "Janet Leverling discount rate is 32.4.\n",
      "Laura Callahan discount rate is 36.15.\n",
      "Andrew Fuller discount rate is 31.54.\n",
      "Robert King discount rate is 47.73.\n",
      "Michael Suyama discount rate is 41.07.\n",
      "Steven Buchanan discount rate is 50.43.\n",
      "Anne Dodsworth discount rate is 43.93.\n"
     ]
    }
   ],
   "source": [
    "# calculate rates of orders with discount for each employee\n",
    "# create empty dictionary to store data\n",
    "discount_rates = {}\n",
    "# use a for loop to get numbers and calculate rate for each employee\n",
    "for name in total_orders.index:\n",
    "    discount = df.loc[(df.Name == str(name)) & (df.Discount != 0)]\n",
    "    total = total_orders[str(name)]\n",
    "    rate = round((len(discount)/total)*100, 2)\n",
    "    discount_rates[str(name)] = rate\n",
    "    print(f'{name} discount rate is {rate}.')"
   ]
  },
  {
   "cell_type": "code",
   "execution_count": 54,
   "metadata": {
    "scrolled": true
   },
   "outputs": [
    {
     "name": "stdout",
     "output_type": "stream",
     "text": [
      "Steven Buchanan 50.43\n",
      "Robert King 47.73\n",
      "Anne Dodsworth 43.93\n",
      "Michael Suyama 41.07\n",
      "Margaret Peacock 40.48\n",
      "Nancy Davolio 39.13\n",
      "Laura Callahan 36.15\n",
      "Janet Leverling 32.4\n",
      "Andrew Fuller 31.54\n"
     ]
    }
   ],
   "source": [
    "# sort dictionary by higher rates\n",
    "s = [(k, discount_rates[k]) for k in sorted(discount_rates, key=discount_rates.get, reverse=True)]\n",
    "for k, v in s:\n",
    "    print(k, v)"
   ]
  },
  {
   "cell_type": "code",
   "execution_count": 55,
   "metadata": {
    "scrolled": false
   },
   "outputs": [
    {
     "data": {
      "text/html": [
       "<div>\n",
       "<style scoped>\n",
       "    .dataframe tbody tr th:only-of-type {\n",
       "        vertical-align: middle;\n",
       "    }\n",
       "\n",
       "    .dataframe tbody tr th {\n",
       "        vertical-align: top;\n",
       "    }\n",
       "\n",
       "    .dataframe thead th {\n",
       "        text-align: right;\n",
       "    }\n",
       "</style>\n",
       "<table border=\"1\" class=\"dataframe\">\n",
       "  <thead>\n",
       "    <tr style=\"text-align: right;\">\n",
       "      <th></th>\n",
       "      <th>Region</th>\n",
       "      <th>Name</th>\n",
       "      <th>Revenue</th>\n",
       "      <th>Total_Orders</th>\n",
       "      <th>Revenue_per_Order</th>\n",
       "      <th>Discount_Rate</th>\n",
       "    </tr>\n",
       "  </thead>\n",
       "  <tbody>\n",
       "    <tr>\n",
       "      <th>7</th>\n",
       "      <td>North America</td>\n",
       "      <td>Margaret Peacock</td>\n",
       "      <td>232890.8460</td>\n",
       "      <td>420</td>\n",
       "      <td>554.502014</td>\n",
       "      <td>40.48</td>\n",
       "    </tr>\n",
       "    <tr>\n",
       "      <th>5</th>\n",
       "      <td>North America</td>\n",
       "      <td>Janet Leverling</td>\n",
       "      <td>202812.8430</td>\n",
       "      <td>321</td>\n",
       "      <td>631.815710</td>\n",
       "      <td>32.40</td>\n",
       "    </tr>\n",
       "    <tr>\n",
       "      <th>8</th>\n",
       "      <td>North America</td>\n",
       "      <td>Nancy Davolio</td>\n",
       "      <td>192107.6045</td>\n",
       "      <td>345</td>\n",
       "      <td>556.833636</td>\n",
       "      <td>39.13</td>\n",
       "    </tr>\n",
       "    <tr>\n",
       "      <th>4</th>\n",
       "      <td>North America</td>\n",
       "      <td>Andrew Fuller</td>\n",
       "      <td>166537.7550</td>\n",
       "      <td>241</td>\n",
       "      <td>691.028029</td>\n",
       "      <td>31.54</td>\n",
       "    </tr>\n",
       "    <tr>\n",
       "      <th>6</th>\n",
       "      <td>North America</td>\n",
       "      <td>Laura Callahan</td>\n",
       "      <td>126862.2775</td>\n",
       "      <td>260</td>\n",
       "      <td>487.931837</td>\n",
       "      <td>36.15</td>\n",
       "    </tr>\n",
       "    <tr>\n",
       "      <th>2</th>\n",
       "      <td>British Isles</td>\n",
       "      <td>Robert King</td>\n",
       "      <td>124568.2350</td>\n",
       "      <td>176</td>\n",
       "      <td>707.774063</td>\n",
       "      <td>47.73</td>\n",
       "    </tr>\n",
       "    <tr>\n",
       "      <th>0</th>\n",
       "      <td>British Isles</td>\n",
       "      <td>Anne Dodsworth</td>\n",
       "      <td>77308.0665</td>\n",
       "      <td>107</td>\n",
       "      <td>722.505294</td>\n",
       "      <td>43.93</td>\n",
       "    </tr>\n",
       "    <tr>\n",
       "      <th>1</th>\n",
       "      <td>British Isles</td>\n",
       "      <td>Michael Suyama</td>\n",
       "      <td>73913.1295</td>\n",
       "      <td>168</td>\n",
       "      <td>439.959104</td>\n",
       "      <td>41.07</td>\n",
       "    </tr>\n",
       "    <tr>\n",
       "      <th>3</th>\n",
       "      <td>British Isles</td>\n",
       "      <td>Steven Buchanan</td>\n",
       "      <td>68792.2825</td>\n",
       "      <td>117</td>\n",
       "      <td>587.968226</td>\n",
       "      <td>50.43</td>\n",
       "    </tr>\n",
       "  </tbody>\n",
       "</table>\n",
       "</div>"
      ],
      "text/plain": [
       "          Region              Name      Revenue  Total_Orders  \\\n",
       "7  North America  Margaret Peacock  232890.8460           420   \n",
       "5  North America   Janet Leverling  202812.8430           321   \n",
       "8  North America     Nancy Davolio  192107.6045           345   \n",
       "4  North America     Andrew Fuller  166537.7550           241   \n",
       "6  North America    Laura Callahan  126862.2775           260   \n",
       "2  British Isles       Robert King  124568.2350           176   \n",
       "0  British Isles    Anne Dodsworth   77308.0665           107   \n",
       "1  British Isles    Michael Suyama   73913.1295           168   \n",
       "3  British Isles   Steven Buchanan   68792.2825           117   \n",
       "\n",
       "   Revenue_per_Order  Discount_Rate  \n",
       "7         554.502014          40.48  \n",
       "5         631.815710          32.40  \n",
       "8         556.833636          39.13  \n",
       "4         691.028029          31.54  \n",
       "6         487.931837          36.15  \n",
       "2         707.774063          47.73  \n",
       "0         722.505294          43.93  \n",
       "1         439.959104          41.07  \n",
       "3         587.968226          50.43  "
      ]
     },
     "execution_count": 55,
     "metadata": {},
     "output_type": "execute_result"
    }
   ],
   "source": [
    "# add column with discounts rates\n",
    "df3['Discount_Rate']= [40.48,32.4,39.13,31.54,36.15,47.73,43.93,41.07,50.43]\n",
    "df3"
   ]
  },
  {
   "cell_type": "markdown",
   "metadata": {},
   "source": [
    "We are gathering very interesting data for our stakeholders. I'm interested in learning the totals and averages for each office for number of orders, revenue and discount rates."
   ]
  },
  {
   "cell_type": "code",
   "execution_count": 56,
   "metadata": {},
   "outputs": [
    {
     "name": "stdout",
     "output_type": "stream",
     "text": [
      "British Isles total orders: 568; British Isles total revenue: 344581.71.\n",
      "North America total orders: 1587; North America total revenue: 921211.33.\n"
     ]
    }
   ],
   "source": [
    "# calculate statistics by region\n",
    "british_orders = df3[df3['Region']=='British Isles']['Total_Orders'].sum()\n",
    "british_revenue = round(df3[df3['Region']=='British Isles']['Revenue'].sum(),2)\n",
    "namerica_orders = df3[df3['Region']=='North America']['Total_Orders'].sum()\n",
    "namerica_revenue = round(df3[df3['Region']=='North America']['Revenue'].sum(),2)\n",
    "print(f'''British Isles total orders: {british_orders}; British Isles total revenue: {british_revenue}.\n",
    "North America total orders: {namerica_orders}; North America total revenue: {namerica_revenue}.''')"
   ]
  },
  {
   "cell_type": "code",
   "execution_count": 65,
   "metadata": {},
   "outputs": [
    {
     "name": "stdout",
     "output_type": "stream",
     "text": [
      "British Isles mean revenue per order: 614.5516718887292.\n",
      "North America mean revenue per order: 584.4222452764154\n",
      "The overall mean revenue per order is 597.8131015485548.\n"
     ]
    }
   ],
   "source": [
    "# calculate mean revenue per order per region\n",
    "british_revenue_per_order = df3[df3['Region']=='British Isles']['Revenue_per_Order'].mean()\n",
    "na_revenue_per_order = df3[df3['Region']=='North America']['Revenue_per_Order'].mean()\n",
    "all_per_order = df3['Revenue_per_Order'].mean()\n",
    "print(f'''British Isles mean revenue per order: {british_revenue_per_order}.\n",
    "North America mean revenue per order: {na_revenue_per_order}\n",
    "The overall mean revenue per order is {all_per_order}.''')"
   ]
  },
  {
   "cell_type": "code",
   "execution_count": 64,
   "metadata": {},
   "outputs": [
    {
     "name": "stdout",
     "output_type": "stream",
     "text": [
      "British Isles mean discount rate: 45.79.\n",
      "North America mean discount rate: 35.94\n",
      "The overal mean discount rate is 40.32.\n"
     ]
    }
   ],
   "source": [
    "# calculate mean discount rate per region\n",
    "british_mean_discount_rate = df3[df3['Region']=='British Isles']['Discount_Rate'].mean()\n",
    "na_mean_discount_rate = df3[df3['Region']=='North America']['Discount_Rate'].mean()\n",
    "all_discount_rate = df3['Discount_Rate'].mean()\n",
    "print(f'''British Isles mean discount rate: {british_mean_discount_rate}.\n",
    "North America mean discount rate: {na_mean_discount_rate}\n",
    "The overal mean discount rate is {round(all_discount_rate,2)}.''')"
   ]
  },
  {
   "cell_type": "markdown",
   "metadata": {},
   "source": [
    "We see that the British Isles office places much less orders and generates much less total revenue. At the same time, they apply more discounts on average than the North America office, and their mean revenue per order is higher than that of North America office.\n",
    "\n",
    "We can also see that the employees who use discount the most are Steven Buchanan, Robert King, Anne Dodsworth, and Michael Suyama, all from the British Islands office.\n",
    "\n",
    "We will create two dataframes, one control with all the other employees orders, and the experiment control with the orders from the employee who has the higher rate of orders with discounts."
   ]
  },
  {
   "cell_type": "code",
   "execution_count": 59,
   "metadata": {},
   "outputs": [
    {
     "data": {
      "text/plain": [
       "293"
      ]
     },
     "execution_count": 59,
     "metadata": {},
     "output_type": "execute_result"
    }
   ],
   "source": [
    "# separate dataframes for three employees who give more discounts\n",
    "top_discounters = ['Steven Buchanan','Robert King']\n",
    "experiment = df.loc[df['Name'].isin(top_discounters)]\n",
    "len(experiment)"
   ]
  },
  {
   "cell_type": "code",
   "execution_count": 60,
   "metadata": {},
   "outputs": [
    {
     "data": {
      "text/plain": [
       "1862"
      ]
     },
     "execution_count": 60,
     "metadata": {},
     "output_type": "execute_result"
    }
   ],
   "source": [
    "# separate dataframes for each set, experiment for these three employees, control for all others\n",
    "control = df.loc[~df['Name'].isin(top_discounters)]\n",
    "len(control)"
   ]
  },
  {
   "cell_type": "code",
   "execution_count": 61,
   "metadata": {},
   "outputs": [
    {
     "name": "stdout",
     "output_type": "stream",
     "text": [
      "Top discounters mean revenue per order is 659.9335068259385.\n",
      "Other employees' mean revenue per order is 575.9573157894736.\n",
      "The difference is of 83.97619103646491.\n"
     ]
    }
   ],
   "source": [
    "# verify the difference in mean revenue for each group\n",
    "print(f'Top discounters mean revenue per order is {experiment.Revenue.mean()}.')\n",
    "print(f'Other employees\\' mean revenue per order is {control.Revenue.mean()}.')\n",
    "print(f'The difference is of {experiment.Revenue.mean() - control.Revenue.mean()}.')"
   ]
  },
  {
   "cell_type": "code",
   "execution_count": 62,
   "metadata": {},
   "outputs": [
    {
     "name": "stdout",
     "output_type": "stream",
     "text": [
      "Our p-value is of 0.10241106143991666.\n",
      "We failed to reject the null hypothesis.\n"
     ]
    }
   ],
   "source": [
    "welch_t(experiment.Revenue, control.Revenue)"
   ]
  },
  {
   "cell_type": "markdown",
   "metadata": {},
   "source": [
    "Our analysis shows that we have failed to reject our null hypothesis, so we cannot say that the mean revenue per order for the orders placed by the employee who applies more discounts is statistically significantly different from the orders placed by the other employees. "
   ]
  },
  {
   "cell_type": "code",
   "execution_count": null,
   "metadata": {},
   "outputs": [],
   "source": []
  }
 ],
 "metadata": {
  "kernelspec": {
   "display_name": "learn-env",
   "language": "python",
   "name": "learn-env"
  },
  "language_info": {
   "codemirror_mode": {
    "name": "ipython",
    "version": 3
   },
   "file_extension": ".py",
   "mimetype": "text/x-python",
   "name": "python",
   "nbconvert_exporter": "python",
   "pygments_lexer": "ipython3",
   "version": "3.6.6"
  }
 },
 "nbformat": 4,
 "nbformat_minor": 2
}
