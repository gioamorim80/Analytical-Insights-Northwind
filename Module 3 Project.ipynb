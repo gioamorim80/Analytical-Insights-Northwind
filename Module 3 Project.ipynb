{
 "cells": [
  {
   "cell_type": "markdown",
   "metadata": {},
   "source": [
    "## Module 3 Final Project - Analytical Insights from Northwind Database"
   ]
  },
  {
   "cell_type": "markdown",
   "metadata": {},
   "source": [
    "The goal of this project is to conduct a statistical analysis and hypothesis test on the Northwind Traders Database - a dataset created by Microsoft for educational purposes for a fictional company that imports and exports specialty foods globally. \n",
    "\n",
    "Our main task is to answer to our stakeholders the following question:\n",
    "\n",
    "**\"Does discount amount have a statistically significant effect on the quantity of a product in an order? If so, at what level(s) of discount?\"**\n",
    "\n",
    "Besides this question posed by our stakeholders, we are also going to investigate three other hypothesis based on our analysis and understanding of this data.\n",
    "\n",
    "Our first step in answering the first question is define our null and alternative hypothesis, as well as our alpha value:"
   ]
  },
  {
   "cell_type": "markdown",
   "metadata": {},
   "source": [
    "**Null Hypothesis** = there is no difference in product quantity order when there is a discount. \n",
    "\n",
    "**Alternative Hypothesis** = discount has a statistically significant impact on product quantity order.\n",
    "\n",
    "**Alpha = 0.05**  - For this test we will accept an alpha value of 0.05, which means that we will accept a 5% change of rejecting the null hypothesis when it is in fact true."
   ]
  },
  {
   "cell_type": "markdown",
   "metadata": {},
   "source": [
    "Now we need to load the data we will need to implement our hypothesis analysis."
   ]
  },
  {
   "cell_type": "code",
   "execution_count": 1,
   "metadata": {},
   "outputs": [],
   "source": [
    "# import necessary libraries\n",
    "import pandas as pd\n",
    "import sqlite3\n",
    "\n",
    "# connect to database\n",
    "conn = sqlite3.connect('Northwind_small.sqlite')\n",
    "cur = conn.cursor()"
   ]
  },
  {
   "cell_type": "markdown",
   "metadata": {},
   "source": [
    "We will look at the database schema below in order to query the information we will need.\n",
    "\n",
    "<img src='Northwind_ERD_updated.png'>"
   ]
  },
  {
   "cell_type": "code",
   "execution_count": 2,
   "metadata": {},
   "outputs": [
    {
     "data": {
      "text/html": [
       "<div>\n",
       "<style scoped>\n",
       "    .dataframe tbody tr th:only-of-type {\n",
       "        vertical-align: middle;\n",
       "    }\n",
       "\n",
       "    .dataframe tbody tr th {\n",
       "        vertical-align: top;\n",
       "    }\n",
       "\n",
       "    .dataframe thead th {\n",
       "        text-align: right;\n",
       "    }\n",
       "</style>\n",
       "<table border=\"1\" class=\"dataframe\">\n",
       "  <thead>\n",
       "    <tr style=\"text-align: right;\">\n",
       "      <th></th>\n",
       "      <th>OrderId</th>\n",
       "      <th>ProductId</th>\n",
       "      <th>UnitPrice</th>\n",
       "      <th>Quantity</th>\n",
       "      <th>Discount</th>\n",
       "    </tr>\n",
       "  </thead>\n",
       "  <tbody>\n",
       "    <tr>\n",
       "      <th>0</th>\n",
       "      <td>10248</td>\n",
       "      <td>11</td>\n",
       "      <td>14.0</td>\n",
       "      <td>12</td>\n",
       "      <td>0.00</td>\n",
       "    </tr>\n",
       "    <tr>\n",
       "      <th>1</th>\n",
       "      <td>10248</td>\n",
       "      <td>42</td>\n",
       "      <td>9.8</td>\n",
       "      <td>10</td>\n",
       "      <td>0.00</td>\n",
       "    </tr>\n",
       "    <tr>\n",
       "      <th>2</th>\n",
       "      <td>10248</td>\n",
       "      <td>72</td>\n",
       "      <td>34.8</td>\n",
       "      <td>5</td>\n",
       "      <td>0.00</td>\n",
       "    </tr>\n",
       "    <tr>\n",
       "      <th>3</th>\n",
       "      <td>10249</td>\n",
       "      <td>14</td>\n",
       "      <td>18.6</td>\n",
       "      <td>9</td>\n",
       "      <td>0.00</td>\n",
       "    </tr>\n",
       "    <tr>\n",
       "      <th>4</th>\n",
       "      <td>10249</td>\n",
       "      <td>51</td>\n",
       "      <td>42.4</td>\n",
       "      <td>40</td>\n",
       "      <td>0.00</td>\n",
       "    </tr>\n",
       "    <tr>\n",
       "      <th>5</th>\n",
       "      <td>10250</td>\n",
       "      <td>41</td>\n",
       "      <td>7.7</td>\n",
       "      <td>10</td>\n",
       "      <td>0.00</td>\n",
       "    </tr>\n",
       "    <tr>\n",
       "      <th>6</th>\n",
       "      <td>10250</td>\n",
       "      <td>51</td>\n",
       "      <td>42.4</td>\n",
       "      <td>35</td>\n",
       "      <td>0.15</td>\n",
       "    </tr>\n",
       "    <tr>\n",
       "      <th>7</th>\n",
       "      <td>10250</td>\n",
       "      <td>65</td>\n",
       "      <td>16.8</td>\n",
       "      <td>15</td>\n",
       "      <td>0.15</td>\n",
       "    </tr>\n",
       "    <tr>\n",
       "      <th>8</th>\n",
       "      <td>10251</td>\n",
       "      <td>22</td>\n",
       "      <td>16.8</td>\n",
       "      <td>6</td>\n",
       "      <td>0.05</td>\n",
       "    </tr>\n",
       "    <tr>\n",
       "      <th>9</th>\n",
       "      <td>10251</td>\n",
       "      <td>57</td>\n",
       "      <td>15.6</td>\n",
       "      <td>15</td>\n",
       "      <td>0.05</td>\n",
       "    </tr>\n",
       "  </tbody>\n",
       "</table>\n",
       "</div>"
      ],
      "text/plain": [
       "   OrderId  ProductId  UnitPrice  Quantity  Discount\n",
       "0    10248         11       14.0        12      0.00\n",
       "1    10248         42        9.8        10      0.00\n",
       "2    10248         72       34.8         5      0.00\n",
       "3    10249         14       18.6         9      0.00\n",
       "4    10249         51       42.4        40      0.00\n",
       "5    10250         41        7.7        10      0.00\n",
       "6    10250         51       42.4        35      0.15\n",
       "7    10250         65       16.8        15      0.15\n",
       "8    10251         22       16.8         6      0.05\n",
       "9    10251         57       15.6        15      0.05"
      ]
     },
     "execution_count": 2,
     "metadata": {},
     "output_type": "execute_result"
    }
   ],
   "source": [
    "# query database for the relevant information on orders\n",
    "cur.execute(\"\"\"SELECT OrderId, ProductId, UnitPrice, Quantity, Discount FROM OrderDetail;\"\"\")\n",
    "df = pd.DataFrame(cur.fetchall())\n",
    "df.columns = [x[0] for x in cur.description]\n",
    "df.head(10)"
   ]
  },
  {
   "cell_type": "code",
   "execution_count": 3,
   "metadata": {
    "scrolled": true
   },
   "outputs": [
    {
     "data": {
      "text/html": [
       "<div>\n",
       "<style scoped>\n",
       "    .dataframe tbody tr th:only-of-type {\n",
       "        vertical-align: middle;\n",
       "    }\n",
       "\n",
       "    .dataframe tbody tr th {\n",
       "        vertical-align: top;\n",
       "    }\n",
       "\n",
       "    .dataframe thead th {\n",
       "        text-align: right;\n",
       "    }\n",
       "</style>\n",
       "<table border=\"1\" class=\"dataframe\">\n",
       "  <thead>\n",
       "    <tr style=\"text-align: right;\">\n",
       "      <th></th>\n",
       "      <th>OrderId</th>\n",
       "      <th>ProductId</th>\n",
       "      <th>UnitPrice</th>\n",
       "      <th>Quantity</th>\n",
       "      <th>Discount</th>\n",
       "    </tr>\n",
       "  </thead>\n",
       "  <tbody>\n",
       "    <tr>\n",
       "      <th>count</th>\n",
       "      <td>2155.000000</td>\n",
       "      <td>2155.000000</td>\n",
       "      <td>2155.000000</td>\n",
       "      <td>2155.000000</td>\n",
       "      <td>2155.000000</td>\n",
       "    </tr>\n",
       "    <tr>\n",
       "      <th>mean</th>\n",
       "      <td>10659.375870</td>\n",
       "      <td>40.793039</td>\n",
       "      <td>26.218520</td>\n",
       "      <td>23.812993</td>\n",
       "      <td>0.056167</td>\n",
       "    </tr>\n",
       "    <tr>\n",
       "      <th>std</th>\n",
       "      <td>241.378032</td>\n",
       "      <td>22.159019</td>\n",
       "      <td>29.827418</td>\n",
       "      <td>19.022047</td>\n",
       "      <td>0.083450</td>\n",
       "    </tr>\n",
       "    <tr>\n",
       "      <th>min</th>\n",
       "      <td>10248.000000</td>\n",
       "      <td>1.000000</td>\n",
       "      <td>2.000000</td>\n",
       "      <td>1.000000</td>\n",
       "      <td>0.000000</td>\n",
       "    </tr>\n",
       "    <tr>\n",
       "      <th>25%</th>\n",
       "      <td>10451.000000</td>\n",
       "      <td>22.000000</td>\n",
       "      <td>12.000000</td>\n",
       "      <td>10.000000</td>\n",
       "      <td>0.000000</td>\n",
       "    </tr>\n",
       "    <tr>\n",
       "      <th>50%</th>\n",
       "      <td>10657.000000</td>\n",
       "      <td>41.000000</td>\n",
       "      <td>18.400000</td>\n",
       "      <td>20.000000</td>\n",
       "      <td>0.000000</td>\n",
       "    </tr>\n",
       "    <tr>\n",
       "      <th>75%</th>\n",
       "      <td>10862.500000</td>\n",
       "      <td>60.000000</td>\n",
       "      <td>32.000000</td>\n",
       "      <td>30.000000</td>\n",
       "      <td>0.100000</td>\n",
       "    </tr>\n",
       "    <tr>\n",
       "      <th>max</th>\n",
       "      <td>11077.000000</td>\n",
       "      <td>77.000000</td>\n",
       "      <td>263.500000</td>\n",
       "      <td>130.000000</td>\n",
       "      <td>0.250000</td>\n",
       "    </tr>\n",
       "  </tbody>\n",
       "</table>\n",
       "</div>"
      ],
      "text/plain": [
       "            OrderId    ProductId    UnitPrice     Quantity     Discount\n",
       "count   2155.000000  2155.000000  2155.000000  2155.000000  2155.000000\n",
       "mean   10659.375870    40.793039    26.218520    23.812993     0.056167\n",
       "std      241.378032    22.159019    29.827418    19.022047     0.083450\n",
       "min    10248.000000     1.000000     2.000000     1.000000     0.000000\n",
       "25%    10451.000000    22.000000    12.000000    10.000000     0.000000\n",
       "50%    10657.000000    41.000000    18.400000    20.000000     0.000000\n",
       "75%    10862.500000    60.000000    32.000000    30.000000     0.100000\n",
       "max    11077.000000    77.000000   263.500000   130.000000     0.250000"
      ]
     },
     "execution_count": 3,
     "metadata": {},
     "output_type": "execute_result"
    }
   ],
   "source": [
    "# check the basic statistics for this data\n",
    "df.describe()"
   ]
  },
  {
   "cell_type": "markdown",
   "metadata": {},
   "source": [
    "We can see that we have a total of 2155 orders and the mean overall quantity on each order regardless of a discount is of 23.81 products, with a median of 20 products. We can also see that the maximum discount level is of 25%. We will investigate further the discount column."
   ]
  },
  {
   "cell_type": "code",
   "execution_count": 4,
   "metadata": {},
   "outputs": [
    {
     "data": {
      "text/plain": [
       "0.00    1317\n",
       "0.05     185\n",
       "0.10     173\n",
       "0.20     161\n",
       "0.15     157\n",
       "0.25     154\n",
       "0.03       3\n",
       "0.02       2\n",
       "0.01       1\n",
       "0.04       1\n",
       "0.06       1\n",
       "Name: Discount, dtype: int64"
      ]
     },
     "execution_count": 4,
     "metadata": {},
     "output_type": "execute_result"
    }
   ],
   "source": [
    "# verify what levels of discount we have\n",
    "df.Discount.value_counts()"
   ]
  },
  {
   "cell_type": "markdown",
   "metadata": {},
   "source": [
    "We note that we have some levels of discount that are more common - 5%, 10%, 15%, 20% and 25% - and very few other amounts that we will choose to drop from our analysis since their numbers are too small for us to compare. \n",
    "\n",
    "To start, we can separate our data into two different sets - no discount and discount, and analyse if the presence of a discount has an impact on quantity of products on the orders."
   ]
  },
  {
   "cell_type": "code",
   "execution_count": 5,
   "metadata": {},
   "outputs": [
    {
     "data": {
      "text/plain": [
       "0    12\n",
       "1    10\n",
       "2     5\n",
       "3     9\n",
       "4    40\n",
       "Name: Quantity, dtype: int64"
      ]
     },
     "execution_count": 5,
     "metadata": {},
     "output_type": "execute_result"
    }
   ],
   "source": [
    "# select only the quantity amounts for orders with no discount on a series\n",
    "no_discount = df.loc[df.Discount == 0, 'Quantity']\n",
    "\n",
    "no_discount.head()"
   ]
  },
  {
   "cell_type": "code",
   "execution_count": 6,
   "metadata": {},
   "outputs": [
    {
     "data": {
      "text/plain": [
       "6     35\n",
       "7     15\n",
       "8      6\n",
       "9     15\n",
       "11    40\n",
       "Name: Quantity, dtype: int64"
      ]
     },
     "execution_count": 6,
     "metadata": {},
     "output_type": "execute_result"
    }
   ],
   "source": [
    "# select rows only on orders that have discount between 5% and 25%\n",
    "discount_levels = [0.05, 0.10, 0.20, 0.15, 0.25]\n",
    "discount = df.loc[df.Discount.isin(discount_levels), 'Quantity']\n",
    "\n",
    "discount.head()"
   ]
  },
  {
   "cell_type": "code",
   "execution_count": 7,
   "metadata": {},
   "outputs": [
    {
     "name": "stdout",
     "output_type": "stream",
     "text": [
      "We have 1317 orders with no discount, and 830 orders with discounts between 5% and 25%.\n"
     ]
    }
   ],
   "source": [
    "#check how many datapoints we have\n",
    "print(f'We have {len(no_discount)} orders with no discount, and {len(discount)} orders with discounts between 5% and 25%.')"
   ]
  },
  {
   "cell_type": "markdown",
   "metadata": {},
   "source": [
    "Let us have a quick look at the distributions of these data with a simple histogram plot."
   ]
  },
  {
   "cell_type": "code",
   "execution_count": 92,
   "metadata": {},
   "outputs": [
    {
     "data": {
      "image/png": "[encoded data removed]",
      "text/plain": [
       "<Figure size 432x288 with 1 Axes>"
      ]
     },
     "metadata": {
      "needs_background": "light"
     },
     "output_type": "display_data"
    }
   ],
   "source": [
    "#import vizualization libraries\n",
    "import matplotlib.pyplot as plt\n",
    "import numpy as np\n",
    "import seaborn as sns\n",
    "import warnings\n",
    "warnings.filterwarnings(\"ignore\")\n",
    "%matplotlib inline\n",
    "\n",
    "#plot both series on a distribution plot\n",
    "sns.distplot(no_discount, label='No Discount')\n",
    "sns.distplot(discount, label='Discounted')\n",
    "plt.axvline(np.mean(no_discount), color='mediumblue', label='No Discount mean')\n",
    "plt.axvline(np.mean(discount), color='chocolate', label='Discounted mean')\n",
    "plt.legend()\n",
    "plt.show()"
   ]
  },
  {
   "cell_type": "markdown",
   "metadata": {},
   "source": [
    "We can see from the graph that both have an approximate normal distribution. Also, there seems to be a difference in the mean quantity for discounted products as compared to no discount - this is a good sign but we must perform our statistical tests in order to be able to conclude if such difference is statistically significant. Since what we are initially trying to prove is if there is a difference between quantity in orders with and without a discount, a paired two-sample t-test is appropriate, and we will use the mean product quantity as our metric. "
   ]
  },
  {
   "cell_type": "code",
   "execution_count": 9,
   "metadata": {},
   "outputs": [
    {
     "data": {
      "text/plain": [
       "5.638954908472158"
      ]
     },
     "execution_count": 9,
     "metadata": {},
     "output_type": "execute_result"
    }
   ],
   "source": [
    "# import libraries\n",
    "from scipy import stats \n",
    "import math\n",
    "\n",
    "# let's write down our alpha value for reference\n",
    "alpha = .05\n",
    "\n",
    "# to start let's simply find the difference in mean for discounted and not discounted orders\n",
    "no_discount.mean()\n",
    "discount.mean()\n",
    "mean_difference = discount.mean() - no_discount.mean()\n",
    "mean_difference"
   ]
  },
  {
   "cell_type": "markdown",
   "metadata": {},
   "source": [
    "We see that we have a difference of 5.63 in the mean of products for orders with discount as compared to no discount, but we must further investigate if this difference is statistically significant. Before deciding which type of t-test we will use we must check if our two groups have equal variance. We will perform Bartlett’s test to check it - this test tests the null hypothesis that two sample groups have equal variance."
   ]
  },
  {
   "cell_type": "code",
   "execution_count": 10,
   "metadata": {},
   "outputs": [
    {
     "data": {
      "text/plain": [
       "BartlettResult(statistic=29.48129316230489, pvalue=5.645902482998379e-08)"
      ]
     },
     "execution_count": 10,
     "metadata": {},
     "output_type": "execute_result"
    }
   ],
   "source": [
    "# perform Bartlett test for variance\n",
    "stats.bartlett(discount, no_discount)"
   ]
  },
  {
   "cell_type": "markdown",
   "metadata": {},
   "source": [
    "Our result shows that our discount and no_discount groups do not have equal variances. In this case, we must use the \n",
    "Welch T-Test in our statistical analysis."
   ]
  },
  {
   "cell_type": "code",
   "execution_count": 11,
   "metadata": {},
   "outputs": [
    {
     "name": "stdout",
     "output_type": "stream",
     "text": [
      "Our p-value is of 5.0256277704215826e-11.\n"
     ]
    },
    {
     "data": {
      "text/plain": [
       "True"
      ]
     },
     "execution_count": 11,
     "metadata": {},
     "output_type": "execute_result"
    }
   ],
   "source": [
    "# perform t-test with welch correction\n",
    "t, p = stats.ttest_ind(discount, no_discount, equal_var = False)\n",
    "\n",
    "# check our p-value. We divide our p-value result by two because we are interested in one-tailed test (is discount larger?)\n",
    "print(f'Our p-value is of {p/2}.')\n",
    "\n",
    "# compare p-value to our alpha in order to check if we can reject the null hypothesis\n",
    "p/2 < alpha"
   ]
  },
  {
   "cell_type": "markdown",
   "metadata": {},
   "source": [
    "Our test and p-value shows us that we can reject our null hypothesis, so we can say at a 95% confidence level that the mean quantity of products ordered is larger when there is a discount offered. We can now further investigate the different discount levels to answer the second part of the question - **at what level of discount we see an effect on quantity ordered?**\n",
    "\n",
    "In order to do this, we will separate the different discount levels and compare if there is a significant difference among them using a ANOVA test."
   ]
  },
  {
   "cell_type": "code",
   "execution_count": 12,
   "metadata": {},
   "outputs": [],
   "source": [
    "# create separate series for each discount level\n",
    "disc_05 = df.loc[df.Discount == 0.05, 'Quantity']\n",
    "disc_10 = df.loc[df.Discount == 0.10, 'Quantity']\n",
    "disc_15 = df.loc[df.Discount == 0.15, 'Quantity']\n",
    "disc_20 = df.loc[df.Discount == 0.20, 'Quantity']\n",
    "disc_25 = df.loc[df.Discount == 0.25, 'Quantity']"
   ]
  },
  {
   "cell_type": "code",
   "execution_count": 13,
   "metadata": {
    "scrolled": true
   },
   "outputs": [
    {
     "name": "stdout",
     "output_type": "stream",
     "text": [
      "5% discount: 185 \n",
      "10% discount: 173 \n",
      "15% discount: 157 \n",
      "20% discount: 161 \n",
      "25% discount: 154\n"
     ]
    }
   ],
   "source": [
    "# check size of each group\n",
    "print(f'5% discount: {len(disc_05)} \\n10% discount: {len(disc_10)} \\n15% discount: {len(disc_15)} \\n20% discount: {len(disc_20)} \\n25% discount: {len(disc_25)}')"
   ]
  },
  {
   "cell_type": "markdown",
   "metadata": {},
   "source": [
    "We can also quickly have a look at the distribution for each group."
   ]
  },
  {
   "cell_type": "code",
   "execution_count": 14,
   "metadata": {},
   "outputs": [
    {
     "data": {
      "image/png": "[encoded data removed]",
      "text/plain": [
       "<Figure size 720x576 with 1 Axes>"
      ]
     },
     "metadata": {
      "needs_background": "light"
     },
     "output_type": "display_data"
    }
   ],
   "source": [
    "plt.figure(figsize=(10,8))\n",
    "sns.distplot(disc_05, label='5%')\n",
    "sns.distplot(disc_10, label='10%')\n",
    "sns.distplot(disc_15, label='15%')\n",
    "sns.distplot(disc_20, label='20%')\n",
    "sns.distplot(disc_25, label='25%')\n",
    "plt.legend()\n",
    "plt.show()"
   ]
  },
  {
   "cell_type": "markdown",
   "metadata": {},
   "source": [
    "They all have a similar shape and are approximatelly normally distributed, although positively skewed. I  want to also have a quick look at their bloxplot to see how they might differ in terms of median and outliers."
   ]
  },
  {
   "cell_type": "code",
   "execution_count": 34,
   "metadata": {},
   "outputs": [
    {
     "data": {
      "image/png": "[encoded data removed]",
      "text/plain": [
       "<Figure size 432x288 with 1 Axes>"
      ]
     },
     "metadata": {
      "needs_background": "light"
     },
     "output_type": "display_data"
    }
   ],
   "source": [
    "df_discount = df.drop(columns=['OrderId','ProductId','UnitPrice'])\n",
    "df_discount = df.loc[df.Discount.isin(discount_levels), ['Quantity', 'Discount']]\n",
    "df_discount.head()\n",
    "\n",
    "ax = sns.boxplot(x='Quantity', y='Discount', data=df_discount, orient='h', palette='Set2')"
   ]
  },
  {
   "cell_type": "markdown",
   "metadata": {},
   "source": [
    "The medians seem close and we don't see much separation among the different data. We do see some outliers approximately above 60 itemns, on all levels of discount. \n",
    "\n",
    "We can perform a 1-way ANOVA test now to verify if there is a statistically significant difference amongst the different levels of discount for the mean quantity of products ordered."
   ]
  },
  {
   "cell_type": "code",
   "execution_count": 35,
   "metadata": {},
   "outputs": [
    {
     "data": {
      "text/plain": [
       "F_onewayResult(statistic=0.6741032559876151, pvalue=0.610041445360832)"
      ]
     },
     "execution_count": 35,
     "metadata": {},
     "output_type": "execute_result"
    }
   ],
   "source": [
    "# run a one way ANOVA test using statsmodels\n",
    "stats.f_oneway(disc_05, disc_10, disc_15, disc_20, disc_25)"
   ]
  },
  {
   "cell_type": "markdown",
   "metadata": {},
   "source": [
    "Our test shows at a 95% confidence level that there is no statistically significant difference amongst the different levels of discounts. To further confirm this, I want to run a t-test comparing each discount level to all the others. Let's write down a function for this task."
   ]
  },
  {
   "cell_type": "code",
   "execution_count": 63,
   "metadata": {},
   "outputs": [],
   "source": [
    "# write a function to run several welch's t-tests\n",
    "\n",
    "def t_test(sample1, sample2, alpha=0.05, two_tailed=False):\n",
    "    ''' takes two samples and alpha value and runs a simple Welch T-Test, returning corresponding p-value.\n",
    "    Default alpha is 0.05, can pass a different value as paramter\n",
    "    Default is for one-tailed but can take a two_tailed parameter as True, then returns two-tailed p-value result.'''\n",
    "    \n",
    "    # run t-test with welch correction\n",
    "    t, p = stats.ttest_ind(sample1, sample2, equal_var = False)\n",
    "    if two_tailed:\n",
    "        print(f'Our p-value is of {p}.')\n",
    "    else:\n",
    "        print(f'Our p-value is of {p/2}.')\n",
    "\n",
    "    # compare p-value to our alpha in order to check if we can reject the null hypothesis, \n",
    "    # returns False if we fail to reject the null hypothesis\n",
    "    if two_tailed:\n",
    "        return print(p < alpha)\n",
    "    else:\n",
    "        return print(p/2 < alpha)"
   ]
  },
  {
   "cell_type": "code",
   "execution_count": 64,
   "metadata": {},
   "outputs": [
    {
     "name": "stdout",
     "output_type": "stream",
     "text": [
      "Our p-value is of 0.5.\n",
      "False\n",
      "Our p-value is of 0.11355233112599261.\n",
      "False\n",
      "Our p-value is of 0.436850968885396.\n",
      "False\n",
      "Our p-value is of 0.32755671499068295.\n",
      "False\n",
      "Our p-value is of 0.4602966241268858.\n",
      "False\n",
      "Our p-value is of 0.11355233112599261.\n",
      "False\n",
      "Our p-value is of 0.5.\n",
      "False\n",
      "Our p-value is of 0.08808253990239587.\n",
      "False\n",
      "Our p-value is of 0.2074729709592535.\n",
      "False\n",
      "Our p-value is of 0.09487792002313435.\n",
      "False\n",
      "Our p-value is of 0.436850968885396.\n",
      "False\n",
      "Our p-value is of 0.08808253990239587.\n",
      "False\n",
      "Our p-value is of 0.5.\n",
      "False\n",
      "Our p-value is of 0.2719683612710327.\n",
      "False\n",
      "Our p-value is of 0.47571144162250883.\n",
      "False\n",
      "Our p-value is of 0.32755671499068295.\n",
      "False\n",
      "Our p-value is of 0.2074729709592535.\n",
      "False\n",
      "Our p-value is of 0.2719683612710327.\n",
      "False\n",
      "Our p-value is of 0.5.\n",
      "False\n",
      "Our p-value is of 0.29035465628086127.\n",
      "False\n",
      "Our p-value is of 0.4602966241268858.\n",
      "False\n",
      "Our p-value is of 0.09487792002313435.\n",
      "False\n",
      "Our p-value is of 0.47571144162250883.\n",
      "False\n",
      "Our p-value is of 0.29035465628086127.\n",
      "False\n",
      "Our p-value is of 0.5.\n",
      "False\n"
     ]
    }
   ],
   "source": [
    "# make a list with all the different discount series\n",
    "list_of_discounts = [disc_05, disc_10, disc_15, disc_20, disc_25]\n",
    "\n",
    "# run a t-test comparing each level of discount\n",
    "for i in list_of_discounts:\n",
    "    for e in list_of_discounts:\n",
    "        t_test(i,e)"
   ]
  },
  {
   "cell_type": "markdown",
   "metadata": {},
   "source": [
    "This further confirms that there we cannot reject the null hypothesis that there is no statistically significant difference amongst the different discount levels. So far we learned that discounts do have an effect on quantity ordered, but that the levels of discounts are not statistically significantly different among themselves. \n",
    "\n",
    "We can further investigate the effect size of each discount level against a no discount order, to try to grasp which discount level is more effective, since the effect size quantifies the size of the difference between two groups under observation. "
   ]
  },
  {
   "cell_type": "code",
   "execution_count": 65,
   "metadata": {},
   "outputs": [],
   "source": [
    "# Import necessary libraries \n",
    "import numpy as np\n",
    "\n",
    "# seed the random number generator so you get the same results\n",
    "np.random.seed(10)"
   ]
  },
  {
   "cell_type": "code",
   "execution_count": 87,
   "metadata": {},
   "outputs": [],
   "source": [
    "# define function to calculate the Cohen-d effect size for two samples\n",
    "\n",
    "def cohen_d(group1, group2):\n",
    "    \n",
    "    ''' Compute Cohen's d.\n",
    "    Transforms pandas series into numpy arrays for calculations\n",
    "    returns a floating point number for cohen's d. '''\n",
    "    \n",
    "    #array_transform(group1, group2)\n",
    "    \n",
    "    diff = group1.mean() - group2.mean()\n",
    "\n",
    "    n1, n2 = len(group1), len(group2)\n",
    "    var1 = group1.var()\n",
    "    var2 = group2.var()\n",
    "\n",
    "    # Calculate the pooled threshold \n",
    "    pooled_var = (n1 * var1 + n2 * var2) / (n1 + n2)\n",
    "    \n",
    "    # Calculate Cohen's d statistic\n",
    "    d = diff / np.sqrt(pooled_var)\n",
    "    \n",
    "    return print(f'The Cohen\\'s d value is {d}')"
   ]
  },
  {
   "cell_type": "code",
   "execution_count": 88,
   "metadata": {},
   "outputs": [
    {
     "name": "stdout",
     "output_type": "stream",
     "text": [
      "The Cohen's d value is 0.3468767736284544\n",
      "The Cohen's d value is 0.19594203057834086\n",
      "The Cohen's d value is 0.3724041317472808\n",
      "The Cohen's d value is 0.3007122542913553\n",
      "The Cohen's d value is 0.36659255652674416\n"
     ]
    }
   ],
   "source": [
    "for i in list_of_discounts:\n",
    "    cohen_d(i, no_discount)"
   ]
  },
  {
   "cell_type": "code",
   "execution_count": 89,
   "metadata": {},
   "outputs": [
    {
     "name": "stdout",
     "output_type": "stream",
     "text": [
      "The Cohen's d value is 0.3468767736284544\n",
      "The Cohen's d value is 0.19594203057834086\n",
      "The Cohen's d value is 0.3724041317472808\n",
      "The Cohen's d value is 0.3007122542913553\n",
      "The Cohen's d value is 0.36659255652674416\n"
     ]
    }
   ],
   "source": [
    "cohen_d(disc_05, no_discount)\n",
    "cohen_d(disc_10, no_discount)\n",
    "cohen_d(disc_15, no_discount)\n",
    "cohen_d(disc_20, no_discount)\n",
    "cohen_d(disc_25, no_discount)"
   ]
  },
  {
   "cell_type": "code",
   "execution_count": 93,
   "metadata": {},
   "outputs": [
    {
     "name": "stdout",
     "output_type": "stream",
     "text": [
      "The Cohen's d value is 0.017179350730157576\n"
     ]
    }
   ],
   "source": [
    "cohen_d(disc_15, disc_05)"
   ]
  },
  {
   "cell_type": "code",
   "execution_count": null,
   "metadata": {},
   "outputs": [],
   "source": []
  }
 ],
 "metadata": {
  "kernelspec": {
   "display_name": "learn-env",
   "language": "python",
   "name": "learn-env"
  },
  "language_info": {
   "codemirror_mode": {
    "name": "ipython",
    "version": 3
   },
   "file_extension": ".py",
   "mimetype": "text/x-python",
   "name": "python",
   "nbconvert_exporter": "python",
   "pygments_lexer": "ipython3",
   "version": "3.6.6"
  }
 },
 "nbformat": 4,
 "nbformat_minor": 2
}
